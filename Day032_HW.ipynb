{
 "nbformat": 4,
 "nbformat_minor": 2,
 "metadata": {
  "language_info": {
   "name": "python",
   "codemirror_mode": {
    "name": "ipython",
    "version": 3
   },
   "version": "3.7.6-final"
  },
  "orig_nbformat": 2,
  "file_extension": ".py",
  "mimetype": "text/x-python",
  "name": "python",
  "npconvert_exporter": "python",
  "pygments_lexer": "ipython3",
  "version": 3,
  "kernelspec": {
   "name": "705dfb16-d95a-4350-a73c-ce30bee76899",
   "display_name": "'Python Interactive'"
  }
 },
 "cells": [
  {
   "cell_type": "markdown",
   "metadata": {},
   "source": [
    "作業目標\n",
    "\n",
    "讀讀看「test」資料夾下的圖檔！\n",
    "\n",
    "像 test/test2.png 這種複雜的圖片怎麼辦？\n",
    "\n",
    "讀讀看「test」資料夾下的圖檔！\n",
    "\n"
   ]
  },
  {
   "cell_type": "code",
   "execution_count": 1,
   "metadata": {},
   "outputs": [],
   "source": [
    "from PIL import Image\n",
    "from io import BytesIO\n",
    "\n",
    "import requests\n",
    "import pytesseract # tesseract-ocr is required!"
   ]
  },
  {
   "cell_type": "code",
   "execution_count": 2,
   "metadata": {},
   "outputs": [
    {
     "name": "stdout",
     "output_type": "stream",
     "text": "<PIL.PngImagePlugin.PngImageFile image mode=P size=640x377 at 0x1C66B3F0788>\n"
    }
   ],
   "source": [
    "res = requests.get('https://i0.wp.com/www.embhack.com/wp-content/uploads/2018/06/hello-world.png')\n",
    "img = Image.open(BytesIO(res.content))\n",
    "print(img)\n",
    "\n",
    "def img_to_text(img):\n",
    "    try:\n",
    "        code = pytesseract.image_to_string(img)\n",
    "\n",
    "        if code:\n",
    "            print(code)\n",
    "        \n",
    "        else:\n",
    "            print('Parsing failed')\n",
    "\n",
    "    except Exception as e:\n",
    "        print(f'Convert failed: {e}')"
   ]
  },
  {
   "cell_type": "code",
   "execution_count": 3,
   "metadata": {},
   "outputs": [],
   "source": [
    "def convert_Image(img, standard=127.5):\n",
    "    '''\n",
    "    【灰度转换】\n",
    "    '''\n",
    "    image = img.convert('L')\n",
    "\n",
    "    '''\n",
    "    【二值化】\n",
    "    根据阈值 standard , 将所有像素都置为 0(黑色) 或 255(白色), 便于接下来的分割\n",
    "    '''\n",
    "    pixels = image.load()\n",
    "    for x in range(image.width):\n",
    "        for y in range(image.height):\n",
    "            if pixels[x, y] > standard:\n",
    "                pixels[x, y] = 255\n",
    "            else:\n",
    "                pixels[x, y] = 0\n",
    "    return image\n"
   ]
  },
  {
   "cell_type": "code",
   "execution_count": 4,
   "metadata": {},
   "outputs": [
    {
     "name": "stdout",
     "output_type": "stream",
     "text": "Hello World-\n619121\n1413\n"
    }
   ],
   "source": [
    "img_to_text(img)\n",
    "\n",
    "img_test1 = Image.open('./test/test1.png')\n",
    "img_to_text(img_test1)\n",
    "\n",
    "img_test2 = Image.open('./test/test2.png')\n",
    "img_to_text(img_test2)"
   ]
  }
 ]
}