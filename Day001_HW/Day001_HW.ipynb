{
 "nbformat": 4,
 "nbformat_minor": 2,
 "metadata": {
  "language_info": {
   "name": "python",
   "codemirror_mode": {
    "name": "ipython",
    "version": 3
   }
  },
  "orig_nbformat": 2,
  "file_extension": ".py",
  "mimetype": "text/x-python",
  "name": "python",
  "npconvert_exporter": "python",
  "pygments_lexer": "ipython3",
  "version": 3
 },
 "cells": [
  {
   "cell_type": "code",
   "execution_count": 14,
   "metadata": {},
   "outputs": [],
   "source": [
    "# 根據需求引入正確的 Library\n",
    "from urllib.request import urlretrieve\n",
    "import os"
   ]
  },
  {
   "cell_type": "code",
   "execution_count": 15,
   "metadata": {},
   "outputs": [],
   "source": [
    "# 下載檔案到 Data 資料夾，存成檔名 Homework.txt\n",
    "try:\n",
    "    os.makedirs( './Data', exist_ok=True )\n",
    "    urlretrieve (\"https://www.w3.org/TR/PNG/iso_8859-1.txt\", \"./data/Homework.txt\")\n",
    "\n",
    "except:\n",
    "    print('發生錯誤！')"
   ]
  },
  {
   "cell_type": "code",
   "execution_count": 16,
   "metadata": {},
   "outputs": [],
   "source": [
    "# 檢查 Data 資料夾是否有 Homework.txt 檔名之檔案\n",
    "\n",
    "files = os.listdir( './Data' )\n",
    "\n",
    "if 'Homework.txt' in files:\n",
    "    print('[O] 檢查 Data 資料夾是否有 Homework.txt 檔名之檔案')\n",
    "else:\n",
    "    print('[X] 檢查 Data 資料夾是否有 Homework.txt 檔名之檔案')\n"
   ]
  },
  {
   "cell_type": "code",
   "execution_count": null,
   "metadata": {},
   "outputs": [],
   "source": [
    "# 將「Hello World」字串覆寫到 Homework.txt 檔案\n",
    "\n",
    "f = ''\n",
    "\n",
    "with open(\"./Data/Homework.txt\", \"w\") as fh:\n",
    "    f = fh.write(\"Hello World\")\n",
    "\n",
    "try:\n",
    "    with open(\"./Data/Homework.txt\", \"r\") as fh:\n",
    "        '''\n",
    "        Your Code\n",
    "        '''\n",
    "except EnvironmentError: # parent of IOError, OSError *and* WindowsError where available\n",
    "    pass    \n"
   ]
  },
  {
   "cell_type": "code",
   "execution_count": null,
   "metadata": {},
   "outputs": [],
   "source": [
    "# 檢查 Homework.txt 檔案字數是否符合 Hello World 字數\n",
    "\n",
    "if len('Hello World') == len(f):\n",
    "    print('[O] 檢查 Homework.txt 檔案字數是否符合 Hello World 字數')\n",
    "else:\n",
    "    print('[X] 檢查 Homework.txt 檔案字數是否符合 Hello World 字數')\n"
   ]
  }
 ]
}