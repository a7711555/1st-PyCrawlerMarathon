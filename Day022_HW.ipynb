{
 "nbformat": 4,
 "nbformat_minor": 2,
 "metadata": {
  "language_info": {
   "name": "python",
   "codemirror_mode": {
    "name": "ipython",
    "version": 3
   },
   "version": "3.7.6-final"
  },
  "orig_nbformat": 2,
  "file_extension": ".py",
  "mimetype": "text/x-python",
  "name": "python",
  "npconvert_exporter": "python",
  "pygments_lexer": "ipython3",
  "version": 3,
  "kernelspec": {
   "name": "python37664bitvenvvenvac621c359c0349f2b3a54705ffb61429",
   "display_name": "Python 3.7.6 64-bit ('venv': venv)"
  }
 },
 "cells": [
  {
   "cell_type": "markdown",
   "metadata": {},
   "source": [
    "① 取出 台北市士林區 2018/01 – 2018/08 的 SO2 資料\n",
    "\n",
    "② 取出 台北市士林區 2018/01 – 2018/08 的 SO2、CO 資料\n"
   ]
  },
  {
   "cell_type": "code",
   "execution_count": 23,
   "metadata": {},
   "outputs": [],
   "source": [
    "import re\n",
    "\n",
    "from selenium import webdriver\n",
    "from selenium.webdriver.support.ui import Select\n",
    "from selenium.webdriver.support.ui import WebDriverWait\n",
    "from bs4 import BeautifulSoup\n",
    "import pandas as pd\n",
    "\n",
    "browser = webdriver.Chrome(executable_path='./chromedriver.exe')\n",
    "browser.get('http://taqm.epa.gov.tw/taqm/tw/MonthlyAverage.aspx')"
   ]
  },
  {
   "cell_type": "code",
   "execution_count": 24,
   "metadata": {},
   "outputs": [
    {
     "name": "stdout",
     "output_type": "stream",
     "text": "{'SO2': {'2018/01': '1.80', '2018/02': '1.90', '2018/03': '2.20', '2018/04': '2.30', '2018/05': '3.10', '2018/06': '2.70', '2018/07': '2.20', '2018/08': '2.40'}, 'CO': {'2018/01': '0.34', '2018/02': '0.44', '2018/03': '0.40', '2018/04': '0.38', '2018/05': '0.34', '2018/06': '0.29', '2018/07': '0.21', '2018/08': '0.30'}, 'O3': {'2018/01': '33.40', '2018/02': '32.50', '2018/03': '35', '2018/04': '38.40', '2018/05': '31.60', '2018/06': '29.50', '2018/07': '18.70', '2018/08': '26.40'}, 'PM10': {'2018/01': '23', '2018/02': '41', '2018/03': '39', '2018/04': '48', '2018/05': '37', '2018/06': '26', '2018/07': '24', '2018/08': '26'}, 'NOx': {'2018/01': '14.17', '2018/02': '19.43', '2018/03': '18.50', '2018/04': '15.24', '2018/05': '15.20', '2018/06': '13.79', '2018/07': '11.60', '2018/08': '14.75'}, 'NO': {'2018/01': '3.41', '2018/02': '4.48', '2018/03': '4.93', '2018/04': '2.60', '2018/05': '2.26', '2018/06': '2.41', '2018/07': '2.68', '2018/08': '2.68'}, 'NO2': {'2018/01': '10.77', '2018/02': '14.95', '2018/03': '13.56', '2018/04': '12.64', '2018/05': '12.94', '2018/06': '11.38', '2018/07': '8.92', '2018/08': '12.08'}, 'THC': {}, 'NMHC': {}, 'CH4': {}}\n"
    }
   ],
   "source": [
    "selectSite = Select(browser.find_element_by_id('ctl05_ddlSite'))\n",
    "selectSite.select_by_value('11')\n",
    "selectYear = Select(browser.find_element_by_id('ctl05_ddlYear'))\n",
    "selectYear.select_by_value('2018')\n",
    "browser.find_element_by_id('ctl05_btnQuery').click()\n",
    "\n",
    "wait = WebDriverWait(browser, 10)\n",
    "wait.until(lambda browser: browser.find_element_by_id('ctl05_gv'))\n",
    "\n",
    "soup = BeautifulSoup(browser.page_source, 'lxml')\n",
    "table = soup.find('table', class_='TABLE_G')\n",
    "\n",
    "browser.close()\n",
    "\n",
    "d = {}\n",
    "key = ''\n",
    "date_regex = r'\\d{4}\\/0[1-8]'\n",
    "all_td = table.find_all('td')\n",
    "\n",
    "for idx, td in enumerate(all_td):\n",
    "    if 'style' in td.attrs:\n",
    "        key = td.text\n",
    "        d[key] = {}\n",
    "    else:\n",
    "        if re.match(date_regex, td.text):\n",
    "            d[key][td.text] = all_td[idx + 1].text\n",
    "\n",
    "print(d)"
   ]
  },
  {
   "cell_type": "code",
   "execution_count": 25,
   "metadata": {},
   "outputs": [
    {
     "data": {
      "text/html": "<div>\n<style scoped>\n    .dataframe tbody tr th:only-of-type {\n        vertical-align: middle;\n    }\n\n    .dataframe tbody tr th {\n        vertical-align: top;\n    }\n\n    .dataframe thead th {\n        text-align: right;\n    }\n</style>\n<table border=\"1\" class=\"dataframe\">\n  <thead>\n    <tr style=\"text-align: right;\">\n      <th></th>\n      <th>SO2</th>\n    </tr>\n  </thead>\n  <tbody>\n    <tr>\n      <th>2018/01</th>\n      <td>1.80</td>\n    </tr>\n    <tr>\n      <th>2018/02</th>\n      <td>1.90</td>\n    </tr>\n    <tr>\n      <th>2018/03</th>\n      <td>2.20</td>\n    </tr>\n    <tr>\n      <th>2018/04</th>\n      <td>2.30</td>\n    </tr>\n    <tr>\n      <th>2018/05</th>\n      <td>3.10</td>\n    </tr>\n    <tr>\n      <th>2018/06</th>\n      <td>2.70</td>\n    </tr>\n    <tr>\n      <th>2018/07</th>\n      <td>2.20</td>\n    </tr>\n    <tr>\n      <th>2018/08</th>\n      <td>2.40</td>\n    </tr>\n  </tbody>\n</table>\n</div>",
      "text/plain": "          SO2\n2018/01  1.80\n2018/02  1.90\n2018/03  2.20\n2018/04  2.30\n2018/05  3.10\n2018/06  2.70\n2018/07  2.20\n2018/08  2.40"
     },
     "execution_count": 25,
     "metadata": {},
     "output_type": "execute_result"
    }
   ],
   "source": [
    "# 取出 台北市士林區 2018/01 – 2018/08 的 SO2 資料\n",
    "so2 = dict()\n",
    "so2['SO2'] = d['SO2']\n",
    "\n",
    "pd.DataFrame(so2)"
   ]
  },
  {
   "cell_type": "code",
   "execution_count": 26,
   "metadata": {},
   "outputs": [
    {
     "data": {
      "text/html": "<div>\n<style scoped>\n    .dataframe tbody tr th:only-of-type {\n        vertical-align: middle;\n    }\n\n    .dataframe tbody tr th {\n        vertical-align: top;\n    }\n\n    .dataframe thead th {\n        text-align: right;\n    }\n</style>\n<table border=\"1\" class=\"dataframe\">\n  <thead>\n    <tr style=\"text-align: right;\">\n      <th></th>\n      <th>SO2</th>\n      <th>CO</th>\n    </tr>\n  </thead>\n  <tbody>\n    <tr>\n      <th>2018/01</th>\n      <td>1.80</td>\n      <td>0.34</td>\n    </tr>\n    <tr>\n      <th>2018/02</th>\n      <td>1.90</td>\n      <td>0.44</td>\n    </tr>\n    <tr>\n      <th>2018/03</th>\n      <td>2.20</td>\n      <td>0.40</td>\n    </tr>\n    <tr>\n      <th>2018/04</th>\n      <td>2.30</td>\n      <td>0.38</td>\n    </tr>\n    <tr>\n      <th>2018/05</th>\n      <td>3.10</td>\n      <td>0.34</td>\n    </tr>\n    <tr>\n      <th>2018/06</th>\n      <td>2.70</td>\n      <td>0.29</td>\n    </tr>\n    <tr>\n      <th>2018/07</th>\n      <td>2.20</td>\n      <td>0.21</td>\n    </tr>\n    <tr>\n      <th>2018/08</th>\n      <td>2.40</td>\n      <td>0.30</td>\n    </tr>\n  </tbody>\n</table>\n</div>",
      "text/plain": "          SO2    CO\n2018/01  1.80  0.34\n2018/02  1.90  0.44\n2018/03  2.20  0.40\n2018/04  2.30  0.38\n2018/05  3.10  0.34\n2018/06  2.70  0.29\n2018/07  2.20  0.21\n2018/08  2.40  0.30"
     },
     "execution_count": 26,
     "metadata": {},
     "output_type": "execute_result"
    }
   ],
   "source": [
    "# 取出 台北市士林區 2018/01 – 2018/08 的 SO2、CO 資料\n",
    "\n",
    "so2_and_co = dict()\n",
    "so2_and_co['SO2'] = d['SO2']\n",
    "so2_and_co['CO'] = d['CO']\n",
    "\n",
    "pd.DataFrame(so2_and_co)"
   ]
  }
 ]
}