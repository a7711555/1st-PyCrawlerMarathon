{
 "nbformat": 4,
 "nbformat_minor": 2,
 "metadata": {
  "language_info": {
   "name": "python",
   "codemirror_mode": {
    "name": "ipython",
    "version": 3
   },
   "version": "3.7.6-final"
  },
  "orig_nbformat": 2,
  "file_extension": ".py",
  "mimetype": "text/x-python",
  "name": "python",
  "npconvert_exporter": "python",
  "pygments_lexer": "ipython3",
  "version": 3,
  "kernelspec": {
   "name": "python37664bitvenvvenvac621c359c0349f2b3a54705ffb61429",
   "display_name": "Python 3.7.6 64-bit ('venv': venv)"
  }
 },
 "cells": [
  {
   "cell_type": "markdown",
   "execution_count": null,
   "metadata": {},
   "outputs": [],
   "source": [
    "利用開發者工具去尋找「 https://www.zhihu.com/explore 」和「 http://aicoin.cn 」網站的 HTTP 網址，以及他所帶的 Headers 分別是哪些，試著用 request 去發送有沒有帶 Headers 的差異。"
   ]
  },
  {
   "cell_type": "markdown",
   "execution_count": null,
   "metadata": {},
   "outputs": [],
   "source": [
    "## https://www.zhihu.com/explore"
   ]
  },
  {
   "cell_type": "code",
   "execution_count": 1,
   "metadata": {},
   "outputs": [
    {
     "name": "stdout",
     "output_type": "stream",
     "text": "<html>\n<head><title>400 Bad Request</title></head>\n<body bgcolor=\"white\">\n<center><h1>400 Bad Request</h1></center>\n<hr><center>openresty</center>\n</body>\n</html>\n\n"
    }
   ],
   "source": [
    "import requests\n",
    "url = 'https://www.zhihu.com/explore'\n",
    "r = requests.get(url)\n",
    "r.encoding = 'utf-8'\n",
    "print(r.text)"
   ]
  },
  {
   "cell_type": "markdown",
   "execution_count": null,
   "metadata": {},
   "outputs": [],
   "source": [
    "利用查看開發者工具觀察 Headers\n",
    "\n",
    ":authority: zhihu-web-analytics.zhihu.com  \n",
    ":method: POST  \n",
    ":path: /api/v2/za/logs/batch  \n",
    ":scheme: https  \n",
    "accept: */*  \n",
    "accept-encoding: gzip, deflate, br  \n",
    "accept-language: zh-TW,zh;q=0.9,en-US;q=0.8,en;q=0.7  \n",
    "content-encoding: gzip  \n",
    "content-length: 400  \n",
    "content-type: application/x-protobuf  \n",
    "origin: https://www.zhihu.com  \n",
    "referer: https://www.zhihu.com/explore  \n",
    "sec-fetch-mode: cors  \n",
    "sec-fetch-site: same-site  \n",
    "user-agent: Mozilla/5.0 (Windows NT 10.0; Win64; x64) AppleWebKit/537.36 (KHTML, like Gecko) Chrome/79.0.3945.130Safari/537.36  \n",
    "x-za-batch-size: 1  \n",
    "x-za-clientid: 78668012-25fe-473e-beed-b9469ab11538  \n",
    "x-za-log-version: 2.6.25  \n",
    "x-za-platform: DesktopWeb  \n",
    "x-za-product: Zhihu  \n"
   ]
  },
  {
   "cell_type": "code",
   "execution_count": 2,
   "metadata": {},
   "outputs": [
    {
     "name": "stdout",
     "output_type": "stream",
     "text": "<!doctype html>\n<html lang=\"zh\" data-hairline=\"true\" data-theme=\"light\"><head><meta charSet=\"utf-8\"/><title data-react-helmet=\"true\">发现 - 知乎</title><meta name=\"viewport\" content=\"width=device-width,initial-scale=1,maximum-scale=1\"/><meta name=\"renderer\" content=\"webkit\"/><meta name=\"force-rendering\" content=\"webkit\"/><meta http-equiv=\"X-UA-Compatible\" content=\"IE=edge,chrome=1\"/><meta name=\"google-site-verification\" content=\"FTeR0c8arOPKh8c5DYh_9uu98_zJbaWw53J-Sch9MTg\"/><meta name=\"description\" property=\"og:description\" content=\"有问题，上知乎。知乎，可信赖的问答社区，以让每个人高效获得可信赖的解答为使命。知乎凭借认真、专业和友善的社区氛围，结构化、易获得的\n"
    }
   ],
   "source": [
    "headers = {\n",
    "    'user-agent': 'Mozilla/5.0 (Windows NT 10.0; Win64; x64) AppleWebKit/537.36 (KHTML, like Gecko) Chrome/79.0.3945.130 Safari/537.36'\n",
    "}\n",
    "\n",
    "r = requests.get(url, headers=headers)\n",
    "\n",
    "r.encoding = 'utf-8'\n",
    "print(r.text[0:600])"
   ]
  },
  {
   "cell_type": "markdown",
   "execution_count": null,
   "metadata": {},
   "outputs": [],
   "source": [
    "## http://aicoin.cn/"
   ]
  },
  {
   "cell_type": "code",
   "execution_count": 3,
   "metadata": {},
   "outputs": [
    {
     "name": "stdout",
     "output_type": "stream",
     "text": "<!DOCTYPE html><html style=\"height:100%;width:100%\"><head><meta http-equiv=\"Content-Type\" content=\"text/html; charset=utf-8\" /><meta http-equiv=\"Server\" content=\"CloudWAF\" /><title id=\"title\">访问被拦截！</title><script>function bindall() {var requestid = \"30-31-17-20200204091157-c86ebd65\";if(requestid==null || requestid == \"\"){return;}document.getElementById(\"d\").innerText = requestid;}</script></head><body onload=\"bindall()\" style=\"height:100%;width:100%;margin:0px;font-family:Microsoft yahei\"><div><style type=\"text/css\">\t.button{float:right;margin-right:2rem;text-decoration:none;background:white;color:#e94d4c;padding: 5px 15px 5px 15px;font-size:1rem;font-family: 微软雅黑,宋体,Arial,Helvetica,Verdana,sans-serif;font-weight:bold;border-radius:0rem;border: none;-webkit-transition:all linear 0.30s;-moz-transition:all linear 0.30s;}.button:hover{text-decoration:none;background:#e94d4c;color:#f2f2f2;}</style><input type=\"button\" class=\"button\" onclick=\"changeLanguageZh()\" value=\"中文\"/><input type=\"button\" class=\"button\"  onclick=\"changeLanguageEn()\" value=\"English\"/></div><div style=\"min-height:13.125rem;height:17%;width:100%\"><div style=\"margin-top:3.75rem;margin-left:18.4375rem;height:52.38;width:83.04%;\"><svg xmlns=\"http://www.w3.org/2000/svg\" style=\"width: 3.125rem;height: 3.125rem\" viewBox=\"0 0 50 50\"><path fill=\"#e84e4c\" d=\"M25,0A25,25,0,1,0,50,25,25,25,0,0,0,25,0Zm1.6,37.16H22.85V33.41H26.6Zm0-6.63H22.85L22.35,13H27.1Z\"/></svg><font style=\"font-family:MicrosoftYaHei;font-size:4.375rem;color:#e94d4c;margin-left: 0.75rem;font-weight: bold;\">418</font></div><div style=\"margin-left:18.4375rem;height:47.62%;width:83.04%;\"><font id=\"a\" style=\"font-family:MicrosoftYaHei;font-size:1.875rem;color:#999999;word-wrap:break-word;\">您的请求疑似攻击行为！</font><p style=\"font-family:MicrosoftYaHei;font-size:0.9rem;color:#999999;word-wrap:break-word;\"><span id=\"c\">事件ID：</span><span style=\"color:#499df2\" id=\"d\">False alarm ID</p></div></div><div style=\"height:15.625rem;width:100%;min-width:105rem;\"><div style=\"margin-left:18.4375rem;float:left;width:50rem\"><p id=\"b\" style=\"margin-top:10px\">如果您是站长，您可以前往WAF控制台进行误报屏蔽设置，让您的访问不再被拦截</p></div></div></body><script>function changeLanguageZh() {document.getElementById(\"title\").innerHTML = \"访问被拦截！\";document.getElementById(\"a\").innerHTML = \"您的请求疑似攻击行为！\";document.getElementById(\"b\").innerHTML = \"如果您是站长，您可以前往WAF控制台进行误报屏蔽设置，让您的访问不再被拦截\";document.getElementById(\"c\").innerHTML = \"事件ID：\";}function changeLanguageEn() {document.getElementById(\"title\").innerHTML = \"The access is blocked.\";document.getElementById(\"a\").innerHTML = \"Sorry, your request has been intercepted because it appears to be an attack.\";document.getElementById(\"b\").innerHTML = \"If you are the webmaster, configure related parameters on the WAF console to allow your requests.\";document.getElementById(\"c\").innerHTML = \"Event ID:\";}var language = navigator.language || navigator.browserLanguage;if (language.indexOf('zh') > -1) {changeLanguageZh();} else if (language.indexOf('en') > -1) {changeLanguageEn();} else{changeLanguageZh();}</script></html>\n\n"
    }
   ],
   "source": [
    "resp = requests.get('http://aicoin.cn/')\n",
    "resp.encoding = 'utf-8'\n",
    "print(resp.text)"
   ]
  },
  {
   "cell_type": "markdown",
   "execution_count": null,
   "metadata": {},
   "outputs": [],
   "source": [
    "### 利用查看開發者工具觀察 Headers"
   ]
  },
  {
   "cell_type": "markdown",
   "execution_count": null,
   "metadata": {},
   "outputs": [],
   "source": [
    "Accept: */*  \n",
    "Accept-Encoding: gzip, deflate, br  \n",
    "Accept-Language: zh-TW,zh;q=0.9,en-US;q=0.8,en;q=0.7  \n",
    "Connection: keep-alive  \n",
    "content-type: application/x-www-form-urlencoded; charset=UTF-8  \n",
    "Cookie: HWWAFSESID=dc46f7ff49e1ebfe12; HWWAFSESTIME=1580708204403; aicoin_session=eyJpdiI6InVUUjRXY3RrdzJ2WUpGNVVGcWIwN1E9PSIsInZhbHVlIjoibWdNbUJGRXUyMlwvY2tZWVRVeEw5YzNqaEcyYndWU21JVnVCZXNDaytaeXlcLzBXT3VSU0h6WkMyU0FVUlwvWDU3cFhQVTNyY2sxTnRRVmZvZ01aUGt5NEE9PSIsIm1hYyI6ImQ2M2MzYTY5NDAxNDVjNzRiMDgzYzUzOGJmODZlODFhNjRjOGY2MzlmNTNjZjFjZDg4OTc2NTBhYTA2ZDUwYTYifQ%3D%3D; _pk_testcookie..undefined=1; _pk_testcookie.2.57ea=1; _pk_ses.2.57ea=1; Hm_lvt_3c606e4c5bc6e9ff490f59ae4106beb4=1580708210;Hm_lpvt_3c606e4c5bc6e9ff490f59ae4106beb4=1580708210; _ga=GA1.2.1185082089.1580708210; _gid=GA1.2.1322689174.1580708213; _gat_gtag_UA_108140256_2=1; _pk_id.2.57ea=87cb70851a6ff3ea.1580708210.1.1580708221.1580708210.  \n",
    "Host: www.aicoin.cn  \n",
    "Referer: https://www.aicoin.cn/  \n",
    "Sec-Fetch-Mode: cors  \n",
    "Sec-Fetch-Site: same-origin  \n",
    "User-Agent: Mozilla/5.0 (Windows NT 10.0; Win64; x64) AppleWebKit/537.36 (KHTML, like Gecko) Chrome/79.0.3945.130 Safari/537.36  \n",
    "x-requested-with: XMLHttpRequest  "
   ]
  },
  {
   "cell_type": "code",
   "execution_count": 4,
   "metadata": {},
   "outputs": [
    {
     "name": "stdout",
     "output_type": "stream",
     "text": "<html>\n<head><title>503 Service Temporarily Unavailable</title></head>\n<body bgcolor=\"white\">\n<center><h1>503 Service Temporarily Unavailable</h1></center>\n<hr><center>nginx</center>\n</body>\n</html>\n<!-- a padding to disable MSIE and Chrome friendly error page -->\n<!-- a padding to disable MSIE and Chrome friendly error page -->\n<!-- a padding to disable MSIE and Chrome friendly error page -->\n<!-- a padding to disable MSIE and Chrome friendly error page -->\n<!-- a padding to disable MSIE and Chrome friendly error page -->\n<!-- a padding to disable MSIE and Chrome friendly error pa\n"
    }
   ],
   "source": [
    "headers = {\n",
    "    'Host': 'www.aicoin.cn',\n",
    "    'Referer': 'https://www.aicoin.cn/',\n",
    "    'Connection': 'keep-alive',\n",
    "    'x-requested-with': 'XMLHttpRequest',\n",
    "    'User-Agent': 'Mozilla/5.0 (Windows NT 10.0; Win64; x64) AppleWebKit/537.36 (KHTML, like Gecko) Chrome/79.0.3945.130 Safari/537.36',\n",
    "    'content-type': 'application/x-www-form-urlencoded; charset=UTF-8',\n",
    "    'Accept': '*/*',\n",
    "    'Sec-Fetch-Site': 'same-origin',\n",
    "    'Sec-Fetch-Mode': 'cors',\n",
    "    'Accept-Encoding': 'gzip, deflate, br',\n",
    "    'Accept-Language': 'zh-TW,zh;q=0.9,en-US;q=0.8,en;q=0.7',\n",
    "    'Cookie': '_ga=GA1.2.1185082089.1580708210; _gid=GA1.2.1322689174.1580708213; HWWAFSESID=9474c735fa41173a5f; HWWAFSESTIME=1580777435131; _pk_testcookie..undefined=1; _pk_ses.2.57ea=1; _gat_gtag_UA_108140256_2=1; Hm_lvt_3c606e4c5bc6e9ff490f59ae4106beb4=1580708210,1580777437; _pk_id.2.57ea=87cb70851a6ff3ea.1580708210.2.1580777480.1580777436.; aicoin_session=eyJpdiI6ImFJbmJLV0t0UFh2ZWNhYldYeHByXC9nPT0iLCJ2YWx1ZSI6IlJuZys4NUpCRzBBSjl4QzZUT09ySXEyRmJncUlFeHp3VUJkTURXVnB4clRTQnZHcEhlVlg0S1ZOdElYR1p4alhUQjRtMExVSGRMT0wrMEJIQlBrcTdBPT0iLCJtYWMiOiJmOWFmMjZhZWMwZjM5YmEyNWYwMzY3OGUzNzliMmY4ZTM5YjQ0YWFlMjQ4MzI5MWFlMWYyNjZkM2E2YzI1NWNjIn0%3D; Hm_lpvt_3c606e4c5bc6e9ff490f59ae4106beb4=1580777480'\n",
    "}\n",
    "\n",
    "r = requests.get('http://aicoin.cn/', headers=headers)\n",
    "print(r.text[0:600])\n"
   ]
  }
 ]
}