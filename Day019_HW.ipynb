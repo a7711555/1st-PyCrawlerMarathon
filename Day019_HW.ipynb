{
 "nbformat": 4,
 "nbformat_minor": 2,
 "metadata": {
  "language_info": {
   "name": "python",
   "codemirror_mode": {
    "name": "ipython",
    "version": 3
   },
   "version": "3.7.6-final"
  },
  "orig_nbformat": 2,
  "file_extension": ".py",
  "mimetype": "text/x-python",
  "name": "python",
  "npconvert_exporter": "python",
  "pygments_lexer": "ipython3",
  "version": 3,
  "kernelspec": {
   "name": "python37664bitvenvvenvac621c359c0349f2b3a54705ffb61429",
   "display_name": "Python 3.7.6 64-bit ('venv': venv)"
  }
 },
 "cells": [
  {
   "cell_type": "markdown",
   "execution_count": null,
   "metadata": {},
   "outputs": [],
   "source": [
    "根據範例使用 selenuim 取出 高雄市小港區 2019 年 空氣品質 資料，並用一個適合的資料結構儲存  \n",
    "Hint: 將所有資料存在一個變數當中"
   ]
  },
  {
   "cell_type": "code",
   "execution_count": 1,
   "metadata": {},
   "outputs": [],
   "source": [
    "from time import sleep\n",
    "import re\n",
    "\n",
    "from selenium import webdriver\n",
    "from selenium.webdriver.support.ui import Select\n",
    "from selenium.webdriver.support.ui import WebDriverWait\n",
    "from bs4 import BeautifulSoup\n",
    "\n",
    "browser = webdriver.Chrome(executable_path='./chromedriver.exe')\n",
    "browser.get('http://taqm.epa.gov.tw/taqm/tw/MonthlyAverage.aspx')\n",
    "\n",
    "selectSite = Select(browser.find_element_by_id('ctl05_ddlSite'))\n",
    "selectSite.select_by_value('58')\n",
    "selectYear = Select(browser.find_element_by_id('ctl05_ddlYear'))\n",
    "selectYear.select_by_value('2019')\n",
    "browser.find_element_by_id('ctl05_btnQuery').click()"
   ]
  },
  {
   "cell_type": "code",
   "execution_count": 2,
   "metadata": {},
   "outputs": [],
   "source": [
    "wait = WebDriverWait(browser, 10)\n",
    "wait.until(lambda browser: browser.find_element_by_id('ctl05_gv'))\n",
    "\n",
    "# 取得資料（等瀏覽器資料出現後才執行）\n",
    "html_source = browser.page_source\n",
    "soup = BeautifulSoup(html_source, 'html.parser')\n",
    "table = soup.find('table', class_='TABLE_G')\n",
    "\n",
    "browser.close()"
   ]
  },
  {
   "cell_type": "code",
   "execution_count": 3,
   "metadata": {},
   "outputs": [
    {
     "name": "stdout",
     "output_type": "stream",
     "text": "{'SO2': {'2019/01': '4.10', '2019/02': '3.30', '2019/03': '3.90', '2019/04': '3.40', '2019/05': '3.30', '2019/06': '4.10', '2019/07': '4', '2019/08': '4.60', '2019/09': '3.50', '2019/10': '3.20', '2019/11': '3.60', '2019/12': '3'}, 'CO': {'2019/01': '0.67', '2019/02': '0.48', '2019/03': '0.50', '2019/04': '0.39', '2019/05': '0.38', '2019/06': '0.24', '2019/07': '0.28', '2019/08': '0.33', '2019/09': '0.32', '2019/10': '0.36', '2019/11': '0.46', '2019/12': '0.54'}, 'O3': {'2019/01': '24.70', '2019/02': '29.40', '2019/03': '29.20', '2019/04': '30.40', '2019/05': '28.60', '2019/06': '16.30', '2019/07': '15.50', '2019/08': '19.70', '2019/09': '35.70', '2019/10': '44', '2019/11': '34.80', '2019/12': '22.30'}, 'PM10': {'2019/01': '78', '2019/02': '57', '2019/03': '52', '2019/04': '42', '2019/05': '35', '2019/06': '20', '2019/07': '24', '2019/08': '27', '2019/09': '35', '2019/10': '50', '2019/11': '63', '2019/12': '54'}, 'NOx': {'2019/01': '38.01', '2019/02': '25.62', '2019/03': '27.84', '2019/04': '21.83', '2019/05': '22.55', '2019/06': '17.15', '2019/07': '17.71', '2019/08': '19.66', '2019/09': '18.66', '2019/10': '19.50', '2019/11': '28.99', '2019/12': '33.84'}, 'NO': {'2019/01': '7.95', '2019/02': '4.76', '2019/03': '5.41', '2019/04': '4.16', '2019/05': '4.58', '2019/06': '5.08', '2019/07': '5.16', '2019/08': '5.17', '2019/09': '3.63', '2019/10': '3.50', '2019/11': '5.21', '2019/12': '7.83'}, 'NO2': {'2019/01': '30.06', '2019/02': '20.86', '2019/03': '22.43', '2019/04': '17.68', '2019/05': '17.98', '2019/06': '12.08', '2019/07': '12.54', '2019/08': '14.49', '2019/09': '15.03', '2019/10': '15.99', '2019/11': '23.78', '2019/12': '26'}, 'THC': {'2019/01': '2.27', '2019/02': '2.11', '2019/03': '2.12', '2019/04': '2.02', '2019/05': '2.02', '2019/06': '1.92', '2019/07': '1.93', '2019/08': '1.97', '2019/09': '1.98', '2019/10': '2.05', '2019/11': '2.15', '2019/12': '2.18'}, 'NMHC': {'2019/01': '0.27', '2019/02': '0.17', '2019/03': '0.18', '2019/04': '0.14', '2019/05': '0.16', '2019/06': '0.13', '2019/07': '0.14', '2019/08': '0.15', '2019/09': '0.13', '2019/10': '0.13', '2019/11': '0.21', '2019/12': '0.23'}, 'CH4': {'2019/01': '2', '2019/02': '1.94', '2019/03': '1.94', '2019/04': '1.88', '2019/05': '1.86', '2019/06': '1.79', '2019/07': '1.80', '2019/08': '1.82', '2019/09': '1.86', '2019/10': '1.92', '2019/11': '1.94', '2019/12': '1.95'}}\n"
    }
   ],
   "source": [
    "d = {}\n",
    "key = ''\n",
    "date_regex = r'\\d{4}\\/\\d{2}'\n",
    "all_td = table.find_all('td')\n",
    "\n",
    "for idx, td in enumerate(all_td):\n",
    "    if 'style' in td.attrs:\n",
    "        key = td.text\n",
    "        d[key] = {}\n",
    "    else:\n",
    "        if re.match(date_regex, td.text):\n",
    "            d[key][td.text] = all_td[idx + 1].text\n",
    "            \n",
    "print(d)"
   ]
  },
  {
   "cell_type": "code",
   "execution_count": 4,
   "metadata": {},
   "outputs": [
    {
     "data": {
      "text/html": "<div>\n<style scoped>\n    .dataframe tbody tr th:only-of-type {\n        vertical-align: middle;\n    }\n\n    .dataframe tbody tr th {\n        vertical-align: top;\n    }\n\n    .dataframe thead th {\n        text-align: right;\n    }\n</style>\n<table border=\"1\" class=\"dataframe\">\n  <thead>\n    <tr style=\"text-align: right;\">\n      <th></th>\n      <th>SO2</th>\n      <th>CO</th>\n      <th>O3</th>\n      <th>PM10</th>\n      <th>NOx</th>\n      <th>NO</th>\n      <th>NO2</th>\n      <th>THC</th>\n      <th>NMHC</th>\n      <th>CH4</th>\n    </tr>\n  </thead>\n  <tbody>\n    <tr>\n      <th>2019/01</th>\n      <td>4.10</td>\n      <td>0.67</td>\n      <td>24.70</td>\n      <td>78</td>\n      <td>38.01</td>\n      <td>7.95</td>\n      <td>30.06</td>\n      <td>2.27</td>\n      <td>0.27</td>\n      <td>2</td>\n    </tr>\n    <tr>\n      <th>2019/02</th>\n      <td>3.30</td>\n      <td>0.48</td>\n      <td>29.40</td>\n      <td>57</td>\n      <td>25.62</td>\n      <td>4.76</td>\n      <td>20.86</td>\n      <td>2.11</td>\n      <td>0.17</td>\n      <td>1.94</td>\n    </tr>\n    <tr>\n      <th>2019/03</th>\n      <td>3.90</td>\n      <td>0.50</td>\n      <td>29.20</td>\n      <td>52</td>\n      <td>27.84</td>\n      <td>5.41</td>\n      <td>22.43</td>\n      <td>2.12</td>\n      <td>0.18</td>\n      <td>1.94</td>\n    </tr>\n    <tr>\n      <th>2019/04</th>\n      <td>3.40</td>\n      <td>0.39</td>\n      <td>30.40</td>\n      <td>42</td>\n      <td>21.83</td>\n      <td>4.16</td>\n      <td>17.68</td>\n      <td>2.02</td>\n      <td>0.14</td>\n      <td>1.88</td>\n    </tr>\n    <tr>\n      <th>2019/05</th>\n      <td>3.30</td>\n      <td>0.38</td>\n      <td>28.60</td>\n      <td>35</td>\n      <td>22.55</td>\n      <td>4.58</td>\n      <td>17.98</td>\n      <td>2.02</td>\n      <td>0.16</td>\n      <td>1.86</td>\n    </tr>\n    <tr>\n      <th>2019/06</th>\n      <td>4.10</td>\n      <td>0.24</td>\n      <td>16.30</td>\n      <td>20</td>\n      <td>17.15</td>\n      <td>5.08</td>\n      <td>12.08</td>\n      <td>1.92</td>\n      <td>0.13</td>\n      <td>1.79</td>\n    </tr>\n    <tr>\n      <th>2019/07</th>\n      <td>4</td>\n      <td>0.28</td>\n      <td>15.50</td>\n      <td>24</td>\n      <td>17.71</td>\n      <td>5.16</td>\n      <td>12.54</td>\n      <td>1.93</td>\n      <td>0.14</td>\n      <td>1.80</td>\n    </tr>\n    <tr>\n      <th>2019/08</th>\n      <td>4.60</td>\n      <td>0.33</td>\n      <td>19.70</td>\n      <td>27</td>\n      <td>19.66</td>\n      <td>5.17</td>\n      <td>14.49</td>\n      <td>1.97</td>\n      <td>0.15</td>\n      <td>1.82</td>\n    </tr>\n    <tr>\n      <th>2019/09</th>\n      <td>3.50</td>\n      <td>0.32</td>\n      <td>35.70</td>\n      <td>35</td>\n      <td>18.66</td>\n      <td>3.63</td>\n      <td>15.03</td>\n      <td>1.98</td>\n      <td>0.13</td>\n      <td>1.86</td>\n    </tr>\n    <tr>\n      <th>2019/10</th>\n      <td>3.20</td>\n      <td>0.36</td>\n      <td>44</td>\n      <td>50</td>\n      <td>19.50</td>\n      <td>3.50</td>\n      <td>15.99</td>\n      <td>2.05</td>\n      <td>0.13</td>\n      <td>1.92</td>\n    </tr>\n    <tr>\n      <th>2019/11</th>\n      <td>3.60</td>\n      <td>0.46</td>\n      <td>34.80</td>\n      <td>63</td>\n      <td>28.99</td>\n      <td>5.21</td>\n      <td>23.78</td>\n      <td>2.15</td>\n      <td>0.21</td>\n      <td>1.94</td>\n    </tr>\n    <tr>\n      <th>2019/12</th>\n      <td>3</td>\n      <td>0.54</td>\n      <td>22.30</td>\n      <td>54</td>\n      <td>33.84</td>\n      <td>7.83</td>\n      <td>26</td>\n      <td>2.18</td>\n      <td>0.23</td>\n      <td>1.95</td>\n    </tr>\n  </tbody>\n</table>\n</div>",
      "text/plain": "          SO2    CO     O3 PM10    NOx    NO    NO2   THC  NMHC   CH4\n2019/01  4.10  0.67  24.70   78  38.01  7.95  30.06  2.27  0.27     2\n2019/02  3.30  0.48  29.40   57  25.62  4.76  20.86  2.11  0.17  1.94\n2019/03  3.90  0.50  29.20   52  27.84  5.41  22.43  2.12  0.18  1.94\n2019/04  3.40  0.39  30.40   42  21.83  4.16  17.68  2.02  0.14  1.88\n2019/05  3.30  0.38  28.60   35  22.55  4.58  17.98  2.02  0.16  1.86\n2019/06  4.10  0.24  16.30   20  17.15  5.08  12.08  1.92  0.13  1.79\n2019/07     4  0.28  15.50   24  17.71  5.16  12.54  1.93  0.14  1.80\n2019/08  4.60  0.33  19.70   27  19.66  5.17  14.49  1.97  0.15  1.82\n2019/09  3.50  0.32  35.70   35  18.66  3.63  15.03  1.98  0.13  1.86\n2019/10  3.20  0.36     44   50  19.50  3.50  15.99  2.05  0.13  1.92\n2019/11  3.60  0.46  34.80   63  28.99  5.21  23.78  2.15  0.21  1.94\n2019/12     3  0.54  22.30   54  33.84  7.83     26  2.18  0.23  1.95"
     },
     "execution_count": 4,
     "metadata": {},
     "output_type": "execute_result"
    }
   ],
   "source": [
    "import pandas as pd\n",
    "pd.DataFrame(d)\n"
   ]
  }
 ]
}