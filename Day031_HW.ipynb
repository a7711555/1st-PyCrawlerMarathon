{
 "nbformat": 4,
 "nbformat_minor": 2,
 "metadata": {
  "language_info": {
   "name": "python",
   "codemirror_mode": {
    "name": "ipython",
    "version": 3
   },
   "version": "3.7.6-final"
  },
  "orig_nbformat": 2,
  "file_extension": ".py",
  "mimetype": "text/x-python",
  "name": "python",
  "npconvert_exporter": "python",
  "pygments_lexer": "ipython3",
  "version": 3,
  "kernelspec": {
   "name": "705dfb16-d95a-4350-a73c-ce30bee76899",
   "display_name": "'Python Interactive'"
  }
 },
 "cells": [
  {
   "cell_type": "markdown",
   "metadata": {},
   "source": [
    "反爬：瀏覽器標頭與基本資訊\n",
    "\n",
    "了解「檢查 HTTP 標頭檔」的反爬蟲機制\n",
    "\n",
    "「檢查 HTTP 標頭檔」反爬蟲的因應策略\n",
    "\n",
    "沒有加 Header 的情況\n"
   ]
  },
  {
   "cell_type": "code",
   "execution_count": 19,
   "metadata": {},
   "outputs": [
    {
     "name": "stdout",
     "output_type": "stream",
     "text": "<!DOCTYPE html><html style=\"height:100%;width:100%\"><head><meta http-equiv=\"Content-Type\" content=\"text/html; charset=utf-8\" /><meta http-equiv=\"Server\" content=\"CloudWAF\" /><title id=\"title\">è®¿é®è¢«æ¦æªï¼</title><script>function bindall() {var requestid = \"30-30-12-20200222220356-2e0f9f5e\";if(requestid==null || requestid == \"\"){return;}document.getElementById(\"d\").innerText = requestid;}</script></head><body onload=\"bindall()\" style=\"height:100%;width:100%;margin:0px;font-family:Microsoft yahei\"><div><style type=\"text/css\">\t.button{float:right;margin-right:2rem;text-decoration:none;background:white;color:#e94d4c;padding: 5px 15px 5px 15px;font-size:1rem;font-family: å¾®è½¯éé»,å®ä½,Arial,Helvetica,Verdana,sans-serif;font-weight:bold;border-radius:0rem;border: none;-webkit-transition:all linear 0.30s;-moz-transition:all linear 0.30s;}.button:hover{text-decoration:none;background:#e94d4c;color:#f2f2f2;}</style><input type=\"button\" class=\"button\" onclick=\"changeLanguageZh()\" value=\"ä¸­æ\"/><input type=\"button\" class=\"button\"  onclick=\"changeLanguageEn()\" value=\"English\"/></div><div style=\"min-height:13.125rem;height:17%;width:100%\"><div style=\"margin-top:3.75rem;margin-left:18.4375rem;height:52.38;width:83.04%;\"><svg xmlns=\"http://www.w3.org/2000/svg\" style=\"width: 3.125rem;height: 3.125rem\" viewBox=\"0 0 50 50\"><path fill=\"#e84e4c\" d=\"M25,0A25,25,0,1,0,50,25,25,25,0,0,0,25,0Zm1.6,37.16H22.85V33.41H26.6Zm0-6.63H22.85L22.35,13H27.1Z\"/></svg><font style=\"font-family:MicrosoftYaHei;font-size:4.375rem;color:#e94d4c;margin-left: 0.75rem;font-weight: bold;\">418</font></div><div style=\"margin-left:18.4375rem;height:47.62%;width:83.04%;\"><font id=\"a\" style=\"font-family:MicrosoftYaHei;font-size:1.875rem;color:#999999;word-wrap:break-word;\">æ¨çè¯·æ±çä¼¼æ»å»è¡ä¸ºï¼</font><p style=\"font-family:MicrosoftYaHei;font-size:0.9rem;color:#999999;word-wrap:break-word;\"><span id=\"c\">äºä»¶IDï¼</span><span style=\"color:#499df2\" id=\"d\">False alarm ID</p></div></div><div style=\"height:15.625rem;width:100%;min-width:105rem;\"><div style=\"margin-left:18.4375rem;float:left;width:50rem\"><p id=\"b\" style=\"margin-top:10px\">å¦ææ¨æ¯ç«é¿ï¼æ¨å¯ä»¥åå¾WAFæ§å¶å°è¿è¡è¯¯æ¥å±è½è®¾ç½®ï¼è®©æ¨çè®¿é®ä¸åè¢«æ¦æª</p></div></div></body><script>function changeLanguageZh() {document.getElementById(\"title\").innerHTML = \"è®¿é®è¢«æ¦æªï¼\";document.getElementById(\"a\").innerHTML = \"æ¨çè¯·æ±çä¼¼æ»å»è¡ä¸ºï¼\";document.getElementById(\"b\").innerHTML = \"å¦ææ¨æ¯ç«é¿ï¼æ¨å¯ä»¥åå¾WAFæ§å¶å°è¿è¡è¯¯æ¥å±è½è®¾ç½®ï¼è®©æ¨çè®¿é®ä¸åè¢«æ¦æª\";document.getElementById(\"c\").innerHTML = \"äºä»¶IDï¼\";}function changeLanguageEn() {document.getElementById(\"title\").innerHTML = \"The access is blocked.\";document.getElementById(\"a\").innerHTML = \"Sorry, your request has been intercepted because it appears to be an attack.\";document.getElementById(\"b\").innerHTML = \"If you are the webmaster, configure related parameters on the WAF console to allow your requests.\";document.getElementById(\"c\").innerHTML = \"Event ID:\";}var language = navigator.language || navigator.browserLanguage;if (language.indexOf('zh') > -1) {changeLanguageZh();} else if (language.indexOf('en') > -1) {changeLanguageEn();} else{changeLanguageZh();}</script></html>\n\n"
    }
   ],
   "source": [
    "import requests\n",
    "\n",
    "url = 'https://www.aicoin.cn/'\n",
    "\n",
    "response = requests.get(url)\n",
    "print(response.text)"
   ]
  },
  {
   "cell_type": "markdown",
   "metadata": {},
   "source": [
    "加上 Header 的情況"
   ]
  },
  {
   "cell_type": "code",
   "execution_count": 20,
   "metadata": {},
   "outputs": [
    {
     "name": "stdout",
     "output_type": "stream",
     "text": "<!DOCTYPE html><html><head><meta charSet=\"utf-8\" class=\"next-head\"/><meta name=\"viewport\" content=\"width=device-width, initial-scale=1.0\" class=\"jsx-1554617145 next-head\"/><meta name=\"robots\" content=\"noindex\" class=\"jsx-1554617145 next-head\"/><title class=\"jsx-1554617145 next-head\">404: 页面不存在 | AICoin</title><link rel=\"preload\" href=\"https://assets-www.aicoin.net.cn/beta-v20/_next/static/c9L6J8sDx3OyOrquwYEZm/pages/_app.js\" as=\"script\"/><link rel=\"preload\" href=\"https://assets-www.aicoin.net.cn/beta-v20/_next/static/c9L6J8sDx3OyOrquwYEZm/pages/_error.js\" as=\"script\"/><link rel=\"preload\" href=\"https://assets-www.aicoin.net.cn/beta-v20/_next/static/runtime/webpack-1d071c89f1c61d5bc743.js\" as=\"script\"/><link rel=\"preload\" href=\"https://assets-www.aicoin.net.cn/beta-v20/_next/static/chunks/commons.8c2feac61d473c8ebb2d.js\" as=\"script\"/><link rel=\"preload\" href=\"https://assets-www.aicoin.net.cn/beta-v20/_next/static/runtime/main-7e064a1ee3f8d40ad8ae.js\" as=\"script\"/><link rel=\"preload\" href=\"https://assets-www.aicoin.net.cn/beta-v20/_next/static/chunks/styles.10d5595850916cf5f034.js\" as=\"script\"/><link rel=\"stylesheet\" href=\"https://assets-www.aicoin.net.cn/beta-v20/_next/static/css/styles.7b3f09a0.chunk.css\"/><style id=\"__jsx-1554617145\">.error.jsx-1554617145{color:#000;background:#fff;font-family:-apple-system,BlinkMacSystemFont,Roboto,\"Segoe UI\",\"Fira Sans\",Avenir,\"Helvetica Neue\",\"Lucida Grande\",sans-serif;height:100vh;text-align:center;display:-webkit-box;display:-webkit-flex;display:-ms-flexbox;display:flex;-webkit-flex-direction:column;-ms-flex-direction:column;flex-direction:column;-webkit-align-items:center;-webkit-box-align:center;-ms-flex-align:center;align-items:center;-webkit-box-pack:center;-webkit-justify-content:center;-ms-flex-pack:center;justify-content:center;}\nimg.jsx-1554617145{width:606px;}\np.jsx-1554617145{margin-top:30px;margin-bottom:20px;font-family:PingFangSC-Regular;font-size:14px;color:#999999;-webkit-letter-spacing:0;-moz-letter-spacing:0;-ms-letter-spacing:0;letter-spacing:0;text-align:center;line-height:14px;}\na.jsx-1554617145{display:inline-block;font-family:PingFangSC-Regular;min-width:100px;height:30px;line-height:30px;outline:none;padding-top:0;padding-bottom:0;cursor:pointer;}\na.jsx-1554617145+a.jsx-1554617145{margin-left:20px;}\na.back.jsx-1554617145{border:1px solid #3B87EB;border-radius:15px;font-size:14px;color:#3B87EB;background:#fff;}\na.back.jsx-1554617145:hover{background:#3B87EB;border:1px solid #3B87EB;color:#fff;}\na.back.jsx-1554617145:active{border:1px solid #3B87EB;background:#fff;color:#3B87EB;}\na.feedback.jsx-1554617145{border:1px solid #DADADA;border-radius:15px;font-size:14px;color:#4C525E;background:#fff;}\na.feedback.jsx-1554617145:hover{background:#F2F2F2;}\na.feedback.jsx-1554617145:active{background:#fff;}</style><meta name=\"renderer\" content=\"webkit\"/><meta http-equiv=\"X-UA-Compatible\" content=\"IE=edge\"/><meta name=\"site\" content=\"https://www.aicoin.com\"/><link rel=\"icon\" type=\"image/png\" href=\"https://assets-www.aicoin.net.cn/beta-v20/static/favicon.ico\"/><script src=\"https://assets-www.aicoin.net.cn/beta-v20/static/@sentry/browser/build/bundle.min.js\"></script><style>\n            #__next {\n              height: 100%;\n            }\n          </style><script type=\"text/javascript\">\n            var _paq = window._paq || [];\n            /* tracker methods like \"setCustomDimension\" should be called before \"trackPageView\" */\n            /* _paq.push(['trackPageView']); */\n            _paq.push(['enableLinkTracking']);\n            (function() {\n              var u=\"https://a.aicoin.cn/\";\n              _paq.push(['setTrackerUrl', u+'matomo.php']);\n              _paq.push(['setSiteId', '2']);\n              var d=document, g=d.createElement('script'), s=d.getElementsByTagName('script')[0];\n              g.type='text/javascript'; g.async=true; g.defer=true; g.src=u+'matomo.js'; s.parentNode.insertBefore(g,s);\n            })();\n          </script><script async=\"\" src=\"https://pagead2.googlesyndication.com/pagead/js/adsbygoogle.js\" data-ad-client=\"ca-pub-4485090392183942\"></script></head><body><div id=\"__next\"><div data-reactroot=\"\"><div class=\"jsx-1554617145 error\"><div id=\"status\" class=\"jsx-1554617145\"><img src=\"https://assets-www.aicoin.net.cn/beta-v20/static/images/404.png\" class=\"jsx-1554617145\"/><p class=\"jsx-1554617145\">抱歉，您访问的页面不存在～</p><div class=\"jsx-1554617145\"><a href=\"/\" rel=\"noopener\" class=\"jsx-1554617145 back\">返回首页</a></div></div></div></div></div><script>if(!window.Intl){console.log('Polyfill Intl');document.write(decodeURIComponent('%3Cscript%20src%3D%22https%3A%2F%2Fassets-www.aicoin.net.cn%2Fbeta-v20%2Fstatic%2Fpolyfill%2Fintl%2FIntl.min.js%22%3E%3C%2Fscript%3E'))}</script><script></script><script>\n                window.dataLayer = window.dataLayer || [];\n                function gtag(){dataLayer.push(arguments);}\n                gtag('js', new Date());\n                gtag('config', 'UA-108140256-2');\n\n                var _hmt = _hmt || [];\n                (function() {\n                  var hm = document.createElement(\"script\");\n                  hm.async=1;\n                  hm.src = \"https://hm.baidu.com/hm.js?3c606e4c5bc6e9ff490f59ae4106beb4\";\n                  var s = document.getElementsByTagName(\"script\")[0];\n                  s.parentNode.insertBefore(hm, s);\n                })();\n              </script><script async=\"\" src=\"https://www.googletagmanager.com/gtag/js?id=UA-108140256-2\"></script><script>\n                console.clear();\n                console.log(\n                  '一个简单的页面需要经历哪些复杂的工序？\\n加入AICoin大家庭一探究竟。\\n请投简历至%cfortran@aicoin.com%c（请注明：%c来自console%c）。\\n我们期待您的来信，祝好！\\n\\n',\n                  'color: #2a96fa',\n                  'color: reset',\n                  'color: #2a96fa',\n                  'color: reset',\n                );\n              </script><script>__NEXT_DATA__ = {\"props\":{\"pageProps\":{\"statusCode\":404,\"now\":1582380237174}},\"page\":\"/_error\",\"query\":{},\"buildId\":\"c9L6J8sDx3OyOrquwYEZm\",\"assetPrefix\":\"https://assets-www.aicoin.net.cn/beta-v20\"};__NEXT_LOADED_PAGES__=[];__NEXT_REGISTER_PAGE=function(r,f){__NEXT_LOADED_PAGES__.push([r, f])}</script><script async=\"\" id=\"__NEXT_PAGE__/_app\" src=\"https://assets-www.aicoin.net.cn/beta-v20/_next/static/c9L6J8sDx3OyOrquwYEZm/pages/_app.js\"></script><script async=\"\" id=\"__NEXT_PAGE__/_error\" src=\"https://assets-www.aicoin.net.cn/beta-v20/_next/static/c9L6J8sDx3OyOrquwYEZm/pages/_error.js\"></script><script src=\"https://assets-www.aicoin.net.cn/beta-v20/_next/static/runtime/webpack-1d071c89f1c61d5bc743.js\" async=\"\"></script><script src=\"https://assets-www.aicoin.net.cn/beta-v20/_next/static/chunks/commons.8c2feac61d473c8ebb2d.js\" async=\"\"></script><script src=\"https://assets-www.aicoin.net.cn/beta-v20/_next/static/runtime/main-7e064a1ee3f8d40ad8ae.js\" async=\"\"></script><script src=\"https://assets-www.aicoin.net.cn/beta-v20/_next/static/chunks/styles.10d5595850916cf5f034.js\" async=\"\"></script></body></html>\n"
    }
   ],
   "source": [
    "headers ={'user-agent': 'Mozilla/5.0 (Windows NT 10.0; Win64; x64) AppleWebKit/537.36 (KHTML, like Gecko) Chrome/80.0.3987.116 Safari/537.36'}\n",
    "\n",
    "res = requests.get(url, headers=headers)\n",
    "print(res.text)"
   ]
  }
 ]
}