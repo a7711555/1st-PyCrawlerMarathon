{
 "nbformat": 4,
 "nbformat_minor": 2,
 "metadata": {
  "language_info": {
   "name": "python",
   "codemirror_mode": {
    "name": "ipython",
    "version": 3
   },
   "version": "3.7.6-final"
  },
  "orig_nbformat": 2,
  "file_extension": ".py",
  "mimetype": "text/x-python",
  "name": "python",
  "npconvert_exporter": "python",
  "pygments_lexer": "ipython3",
  "version": 3,
  "kernelspec": {
   "name": "python37664bitvenvvenvac621c359c0349f2b3a54705ffb61429",
   "display_name": "Python 3.7.6 64-bit ('venv': venv)"
  }
 },
 "cells": [
  {
   "cell_type": "markdown",
   "execution_count": null,
   "metadata": {},
   "outputs": [],
   "source": [
    "練習爬取電影放映資訊。必須逐步獲取電影的代號、放映地區、放映日期後，再送出查詢給伺服器。"
   ]
  },
  {
   "cell_type": "code",
   "execution_count": 314,
   "metadata": {},
   "outputs": [],
   "source": [
    "import requests\n",
    "import re\n",
    "from bs4 import BeautifulSoup"
   ]
  },
  {
   "cell_type": "markdown",
   "execution_count": null,
   "metadata": {},
   "outputs": [],
   "source": [
    "先搜尋全部的電影代號(ID)資訊"
   ]
  },
  {
   "cell_type": "code",
   "execution_count": 315,
   "metadata": {},
   "outputs": [
    {
     "name": "stdout",
     "output_type": "stream",
     "text": "Movie: 悲慘世界, ID: 10479\nMovie: 熱帶雨, ID: 10448\nMovie: 我們的7日戰爭, ID: 10453\nMovie: 肥龍過江, ID: 10449\nMovie: 岳父受死吧, ID: 10446\nMovie: 殺手撿到槍, ID: 10423\nMovie: 你的情歌, ID: 10407\nMovie: 紳士追殺令, ID: 10317\nMovie: 杜立德, ID: 10316\nMovie: 喜從天降, ID: 10123\nMovie: 深海終劫站, ID: 10230\nMovie: 她們, ID: 10202\nMovie: 變身特務, ID: 9008\nMovie: 然後我們跳了舞, ID: 10451\nMovie: 巧虎電影：英雄遊樂園, ID: 10429\nMovie: 在黑暗中漫舞：20週年數位修復版, ID: 10428\nMovie: 哥哥戀愛了，我怎麼辦！？, ID: 10414\nMovie: 青春催落去, ID: 10404\nMovie: 姊魅, ID: 10403\nMovie: 不完美的正義, ID: 10243\nMovie: 絕地戰警FOR LIFE, ID: 10242\nMovie: 大監獄行動, ID: 10450\nMovie: 惡靈20, ID: 10444\nMovie: 星星知我心, ID: 10409\nMovie: 動畫電影版 我想吃掉你的胰臟, ID: 10377\nMovie: 魯邦三世 The First, ID: 10355\nMovie: 重磅腥聞, ID: 10320\nMovie: 別告訴她, ID: 10382\nMovie: 真愛裁會贏, ID: 10362\nMovie: 兔嘲男孩, ID: 10283\nMovie: 海上鋼琴師4K數位修復, ID: 10425\nMovie: 鹿皮奇談, ID: 10420\nMovie: 倒數計死, ID: 10390\nMovie: 潛艦追緝, ID: 10333\nMovie: 霹靂嬌娃, ID: 10124\nMovie: 白頭山：半島浩劫, ID: 10354\nMovie: CATS貓, ID: 10166\nMovie: 茱蒂, ID: 10112\nMovie: 燃燒女子的畫像, ID: 10069\nMovie: 葉問4：完結篇, ID: 9890\nMovie: STAR WARS : 天行者的崛起, ID: 10225\nMovie: 黑熊來了, ID: 10357\nMovie: 巴黎小情聖, ID: 10329\nMovie: 每個月來訪一次的月經醬, ID: 10324\nMovie: 野蠻遊戲：全面晉級, ID: 10134\nMovie: 懸案密碼前傳：瓶中信, ID: 10254\nMovie: 布魯克林孤兒, ID: 10224\nMovie: 暴走曼哈頓, ID: 10044\nMovie: 鋒迴路轉, ID: 10258\nMovie: 賽道狂人, ID: 10097\nMovie: 冰雪奇緣2, ID: 9597\nMovie: 萬萬沒想到, ID: 10281\nMovie: 新聞記者, ID: 10217\nMovie: 決戰中途島, ID: 10130\nMovie: 安眠醫生, ID: 10098\nMovie: 魔鬼終結者：黑暗宿命, ID: 10067\nMovie: 阿達一族, ID: 9992\nMovie: 陪你很久很久, ID: 10160\nMovie: 雙子殺手, ID: 10017\nMovie: 黑魔女2, ID: 10262\nMovie: 江湖無難事, ID: 10241\nMovie: 仙戒奇緣, ID: 10211\nMovie: 小丑, ID: 9949\nMovie: 無間行動, ID: 10155\nMovie: 囧媽的極地任務, ID: 7772\nMovie: 返校, ID: 10109\nMovie: 天氣之子, ID: 10091\nMovie: 從前，有個好萊塢, ID: 9884\nMovie: 獅子王, ID: 9116\nMovie: 寄生上流, ID: 10020\nMovie: 玩具總動員4, ID: 9924\nMovie: 毀滅者, ID: 9405\nMovie: 庫爾斯克號：深海救援, ID: 9134\nMovie: 厄夜追緝令, ID: 9589\nMovie: 苦兒流浪記, ID: 9538\nMovie: 活個精彩, ID: 9394\nMovie: 限時好友, ID: 9578\nMovie: 祝你忌日快樂, ID: 9568\nMovie: 艾莉塔：戰鬥天使, ID: 8553\nMovie: 馴龍高手3, ID: 8350\nMovie: 幸福綠皮書, ID: 9150\nMovie: 一首搖滾上月球, ID: 4887\nMovie: 錢不夠用2, ID: 3026\n"
    }
   ],
   "source": [
    "# 查看目前上映那些電影，並擷取出其ID資訊\n",
    "url = 'https://movies.yahoo.com.tw/'\n",
    "resp = requests.get(url)\n",
    "resp.encoding = 'utf-8'\n",
    "\n",
    "soup = BeautifulSoup(resp.text, 'lxml')\n",
    "html = soup.find(\"select\", attrs={'name':'movie_id'})\n",
    "movie_item = html.find_all(\"option\", attrs={'data-name':re.compile('.*')})\n",
    "\n",
    "for p in movie_item:\n",
    "    print(\"Movie: %s, ID: %s\" % (p[\"data-name\"], p[\"value\"]))"
   ]
  },
  {
   "cell_type": "code",
   "execution_count": 316,
   "metadata": {},
   "outputs": [],
   "source": [
    "# 參考前一個步驟中擷取到的ID資訊，並指定ID\n",
    "movie_id = 10425"
   ]
  },
  {
   "cell_type": "code",
   "execution_count": 317,
   "metadata": {},
   "outputs": [
    {
     "name": "stdout",
     "output_type": "stream",
     "text": "放映地區: 台北市, 代號(area_id): 28\n放映地區: 台中, 代號(area_id): 2\n"
    }
   ],
   "source": [
    "url = 'https://movies.yahoo.com.tw/api/v1/areas_by_movie_theater'\n",
    "payload = {'movie_id':str(movie_id)}\n",
    "\n",
    "# 模擬一個header\n",
    "headers = {\n",
    "    'authority': 'movies.yahoo.com.tw',\n",
    "    'method': 'GET',\n",
    "    'path': '/api/v1/areas_by_movie_theater?movie_id=' + str(movie_id),\n",
    "    'scheme': 'https',\n",
    "    'accept': 'application/json, text/javascript, */*; q=0.01',\n",
    "    'accept-encoding': 'gzip, deflate, br',\n",
    "    'accept-language': 'zh-TW,zh;q=0.9,en-US;q=0.8,en;q=0.7,zh-CN;q=0.6',\n",
    "    'cookie': 'rxx=9s3x2fws06.1g16irnc&v=1; _ga=GA1.3.2056742944.1551651301; GUC=AQEBAQFczFpdm0IfmwSB&s=AQAAACoo4N5D&g=XMsVBw; BX=4hkdk1decm57t&b=3&s=mr; _ga=GA1.4.2056742944.1551651301; nexagesuid=82843256dd234e8e91aa73f2062f8218; browsed_movie=eyJpdiI6IlJXWWtiSWJaZlNGK2MxQnhscnVUYWc9PSIsInZhbHVlIjoiMXRhMmVHRXRIeUNjc1RBWDJzdGYwbnlIQURmWGsrcjJSMzhkbkcraDNJVUNIZEZsbzU3amlFcVZ1NzlmazJrTGpoMjVrbHk1YmpoRENXaHZTOUw1TmI2ZTZVWHdOejZQZm16RmVuMWlHTTJLaTZLVFZZVkFOMDlTd1wvSGltcytJIiwibWFjIjoiZWQ2ZjA4MmVjZmZlYjlmNjJmYmY2NGMyMDI0Njc0NWViYjVkOWE2NDg0N2RhODMxZjBjZDhiMmJhZTc2MDZhYiJ9; avi=eyJpdiI6Im1NeWFJRlVRWDR1endEcGRGUGJUbVE9PSIsInZhbHVlIjoickRpU3JuUytmcGl6cjF5OW0rNU9iZz09IiwibWFjIjoiY2VmY2NkNzZmM2NhNjY5YzlkOTcyNjE5OGEyMzU0NWYxOTdmMDRkMDY3OWNmMmZjOTMxYjc5MjI5N2Q5NGE5MiJ9; cmp=t=1559391030&j=0; _gid=GA1.4.779543841.1559391031; XSRF-TOKEN=eyJpdiI6IkhpS2hGcDRQaHlmWUJmaHdSS2Q2bHc9PSIsInZhbHVlIjoiOUVoNFk4OHI1UUZmUWRtYXhza0MyWjJSTlhlZ3RnT0VGeVJPN2JuczVRMGRFdWt2OUlsamVKeHRobFwvcHBGM0dhU3VyMXNGTHlsb2dVM2l0U1hpUGxBPT0iLCJtYWMiOiJkZWU4YzJhNjAxMTY3MzE4Y2ExNWIxYmE1ZjE1YWZlZTlhOTcyYjc4M2RlZGY4ZWNjZDYyMTA2NGYwZGViMzc2In0%3D; m_s=eyJpdiI6InpsZHZ2Tk1BZ0dxaHhETml1RjBnUXc9PSIsInZhbHVlIjoiSkNGeHUranRoXC85bDFiaDhySTJqNkJRcWdjWUxjeVRJSHVYZ1wvd2d4bWJZUTUrSHVDM0lUcW5KNHdETFZ4T1lieU81OUhzc1VoUXhZcWk0UDZSQXVFdz09IiwibWFjIjoiYmJkMDJkMDhlODIzMzcyMWY4M2NmYWNjNGVlOWRjMDIwZmVmNzAyMjE3Yzg3ZGY3ODBkZWEzZTI4MTI5ZWNmOSJ9; _gat=1; nexagesd=10',\n",
    "    'dnt': '1',\n",
    "    'mv-authorization': '21835b082e15b91a69b3851eec7b31b82ce82afb',\n",
    "    'referer': 'https://movies.yahoo.com.tw/',\n",
    "    'user-agent': 'Mozilla/5.0 (Windows NT 10.0; Win64; x64) AppleWebKit/537.36 (KHTML, like Gecko) Chrome/74.0.3729.169 Safari/537.36',\n",
    "    'x-requested-with': 'XMLHttpRequest',\n",
    "}\n",
    "\n",
    "resp = requests.get(url, params=payload, headers=headers)\n",
    "\n",
    "# 這裡回傳的格式是JSON格式的資料，要解析JSON擷取資料\n",
    "for p in resp.json():\n",
    "    print('放映地區: {0}, 代號(area_id): {1}'.format(p['title'], p['area_id']))\n"
   ]
  },
  {
   "cell_type": "markdown",
   "execution_count": null,
   "metadata": {},
   "outputs": [],
   "source": [
    "指定你想要觀看的放映地區，查詢有上映電影的場次日期"
   ]
  },
  {
   "cell_type": "code",
   "execution_count": 318,
   "metadata": {},
   "outputs": [],
   "source": [
    "# 指定放映地區\n",
    "area_id = 28"
   ]
  },
  {
   "cell_type": "code",
   "execution_count": 319,
   "metadata": {},
   "outputs": [
    {
     "name": "stdout",
     "output_type": "stream",
     "text": "一月 29\n一月 30\n一月 31\n二月 1\n二月 2\n"
    }
   ],
   "source": [
    "# 向網站發送請求\n",
    "url = 'https://movies.yahoo.com.tw/movietime_result.html'\n",
    "payload = {'movie_id':str(movie_id), 'area_id':str(area_id)}\n",
    "resp = requests.get(url, params=payload)\n",
    "resp.encoding = 'utf-8'\n",
    "\n",
    "soup = BeautifulSoup(resp.text, 'lxml')\n",
    "movie_date = soup.find_all(\"label\", attrs={'for':re.compile(\"date_[\\d]\")})\n",
    "\n",
    "# 列印播放日期\n",
    "for date in movie_date:\n",
    "    print(\"%s %s\" % (date.p.string, date.h3.string))\n"
   ]
  },
  {
   "cell_type": "code",
   "execution_count": 320,
   "metadata": {},
   "outputs": [],
   "source": [
    "# 選定要觀看的日期\n",
    "date = \"2020-01-29\""
   ]
  },
  {
   "cell_type": "code",
   "execution_count": 321,
   "metadata": {},
   "outputs": [
    {
     "name": "stdout",
     "output_type": "stream",
     "text": "----------------------------------------------------------------------\n電影院:  國賓影城(台北長春廣場)\n放映類型:  數位\n2020-01-29 13:15:00\n2020-01-29 17:45:00\n"
    }
   ],
   "source": [
    "# 向網站發送請求，獲取上映的電影院及時間資訊\n",
    "url = \"https://movies.yahoo.com.tw/ajax/pc/get_schedule_by_movie\"\n",
    "payload = {'movie_id':str(movie_id),\n",
    "           'date':date,\n",
    "           'area_id':str(area_id),\n",
    "           'theater_id':'',\n",
    "           'datetime':'',\n",
    "           'movie_type_id':''}\n",
    "\n",
    "resp = requests.get(url, params=payload)\n",
    "\n",
    "soup = BeautifulSoup(resp.json()['view'], 'lxml')\n",
    "html = soup.find_all(attrs={'data-theater_name':re.compile(\".*\")})\n",
    "\n",
    "for d in html:\n",
    "    print('----------------------------------------------------------------------')\n",
    "    print('電影院: ', d.find('a').text)\n",
    "    print('放映類型: ', d.find(class_='tapR').text)\n",
    "    for time in d.find_all(class_='gabtn'):\n",
    "        print(time.attrs['value'])"
   ]
  }
 ]
}