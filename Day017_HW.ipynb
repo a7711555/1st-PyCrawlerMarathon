{
 "nbformat": 4,
 "nbformat_minor": 2,
 "metadata": {
  "language_info": {
   "name": "python",
   "codemirror_mode": {
    "name": "ipython",
    "version": 3
   }
  },
  "orig_nbformat": 2,
  "file_extension": ".py",
  "mimetype": "text/x-python",
  "name": "python",
  "npconvert_exporter": "python",
  "pygments_lexer": "ipython3",
  "version": 3
 },
 "cells": [
  {
   "cell_type": "markdown",
   "execution_count": null,
   "metadata": {},
   "outputs": [],
   "source": [
    "1. 動態網頁跟靜態網頁的差別是什麼？原本靜態網頁的做法會產生什麼問題或是缺點？"
   ]
  },
  {
   "cell_type": "markdown",
   "execution_count": null,
   "metadata": {},
   "outputs": [],
   "source": [
    "動態網⾴頁有別於靜態網⾴頁產⽣生資料的⽅方式。靜態網⾴頁是透過每⼀一次使⽤用者請求，後端會產⽣生⼀一次網⾴頁回傳，所以請求與回傳是⼀一對⼀一的，有些⼈人把他們稱為同步。在動態網⾴頁的話，是透過 Ajax 的技術，來來完成非同步的資料傳輸。換句句話說，就是在網⾴頁上，任何時間點都可以發送請求給後端，後端只回傳資料，⽽而不是回傳整個網⾴。\n",
    "\n",
    "靜態網站的缺點是若是要更新資料就需要回傳整個網頁，增加流量浪費。"
   ]
  },
  {
   "cell_type": "markdown",
   "execution_count": null,
   "metadata": {},
   "outputs": [],
   "source": [
    "2. 還記得我們在 ETTODAY 靜態爬蟲實作練習中，有請大家完成一個題目「取出今天所有的發文」，但仔細看其實並沒有真的把當天所有的新聞都抓回來， 試著回答看看原因是什麼？及該如何檢查？"
   ]
  },
  {
   "cell_type": "markdown",
   "execution_count": null,
   "metadata": {},
   "outputs": [],
   "source": []
  }
 ]
}