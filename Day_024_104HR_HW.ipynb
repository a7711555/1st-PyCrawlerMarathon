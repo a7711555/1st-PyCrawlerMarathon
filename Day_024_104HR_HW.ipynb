{
 "nbformat": 4,
 "nbformat_minor": 2,
 "metadata": {
  "language_info": {
   "name": "python",
   "codemirror_mode": {
    "name": "ipython",
    "version": 3
   },
   "version": "3.7.6-final"
  },
  "orig_nbformat": 2,
  "file_extension": ".py",
  "mimetype": "text/x-python",
  "name": "python",
  "npconvert_exporter": "python",
  "pygments_lexer": "ipython3",
  "version": 3,
  "kernelspec": {
   "name": "python37664bitvenvvenvac621c359c0349f2b3a54705ffb61429",
   "display_name": "Python 3.7.6 64-bit ('venv': venv)"
  }
 },
 "cells": [
  {
   "cell_type": "markdown",
   "metadata": {},
   "source": [
    "## 104人力銀行網站爬蟲練習\n",
    "\n",
    "從104人力銀行網站爬取求職公司資訊。\n"
   ]
  },
  {
   "cell_type": "code",
   "execution_count": 1,
   "metadata": {},
   "outputs": [],
   "source": [
    "import time\n",
    "\n",
    "from bs4 import BeautifulSoup\n",
    "from selenium import webdriver\n"
   ]
  },
  {
   "cell_type": "code",
   "execution_count": 2,
   "metadata": {},
   "outputs": [],
   "source": [
    "job_104_url = \"https://www.104.com.tw/cust/list/index/?page=1&order=1&mode=s&jobsource=checkc&area=6001001000&indcat=1001002000\""
   ]
  },
  {
   "cell_type": "code",
   "execution_count": 3,
   "metadata": {},
   "outputs": [
    {
     "name": "stdout",
     "output_type": "stream",
     "text": "The End\n"
    }
   ],
   "source": [
    "browser = webdriver.Chrome('./chromedriver.exe')\n",
    "browser.get(job_104_url)\n",
    "time.sleep(2)\n",
    "\n",
    "\n",
    "while True:\n",
    "    time.sleep(3)\n",
    "    html = browser.page_source\n",
    "    soup = BeautifulSoup(html, 'lxml')\n",
    "    company_list = soup.find(\"div\", attrs={'id':\"company-result\"}).find_all(\"article\", attrs={'class':\"items\"})\n",
    "\n",
    "    for com in company_list:\n",
    "        company_name = com.a.string\n",
    "        \n",
    "        with open('company_list.txt', 'a+', encoding='utf-8') as f:\n",
    "            f.write(company_name + '\\n')\n",
    "\n",
    "            company_desc = com.find('p', attrs={'class': 'desc'})\n",
    "\n",
    "            f.write(company_desc.string + '\\n')\n",
    "            f.write( \"--------------------------------------------------------------------------------\" + \"\\n\" )\n",
    "\n",
    "    next_btn = browser.find_element_by_class_name('page-next')\n",
    "    if next_btn.get_attribute('class') == 'page-next disabled':\n",
    "        print('The End')\n",
    "        break\n",
    "\n",
    "    next_btn.click()\n",
    "\n",
    "browser.close()"
   ]
  }
 ]
}