{
 "nbformat": 4,
 "nbformat_minor": 2,
 "metadata": {
  "language_info": {
   "name": "python",
   "codemirror_mode": {
    "name": "ipython",
    "version": 3
   },
   "version": "3.7.6-final"
  },
  "orig_nbformat": 2,
  "file_extension": ".py",
  "mimetype": "text/x-python",
  "name": "python",
  "npconvert_exporter": "python",
  "pygments_lexer": "ipython3",
  "version": 3,
  "kernelspec": {
   "name": "705dfb16-d95a-4350-a73c-ce30bee76899",
   "display_name": "'Python Interactive'"
  }
 },
 "cells": [
  {
   "cell_type": "markdown",
   "metadata": {},
   "source": [
    "作業目標\n",
    "\n",
    "找一個需要登入的網站試試看，並說明思考流程 （如果不知道要用哪個網站的話，可以試試看 https://github.com/new 網址，未登入時會被導向登入頁）\n"
   ]
  },
  {
   "cell_type": "code",
   "execution_count": 2,
   "metadata": {},
   "outputs": [
    {
     "name": "stdout",
     "output_type": "stream",
     "text": "Create a new repository\n"
    }
   ],
   "source": [
    "from bs4 import BeautifulSoup\n",
    "import requests\n",
    "\n",
    "usr = ''\n",
    "pwd = ''\n",
    "\n",
    "headers = {\n",
    "    'user-agent': 'Mozilla/5.0 (Windows NT 10.0; Win64; x64) AppleWebKit/537.36 (KHTML, like Gecko) Chrome/80.0.3987.116 Safari/537.36'\n",
    "}\n",
    "login_data = {\n",
    "    'commit': 'Sign in',\n",
    "    'utf8': '%E2%9C%93',\n",
    "    'login': usr,\n",
    "    'password': pwd\n",
    "}\n",
    "\n",
    "url = 'https://github.com/new'\n",
    "post_login_url = 'https://github.com/session'\n",
    "\n",
    "with requests.Session() as s:\n",
    "    r = s.get(url, headers=headers)\n",
    "\n",
    "\n",
    "    login_data['authenticity_token'] = BeautifulSoup(r.text).find('input', attrs={'name': 'authenticity_token'})['value']\n",
    "    s.post(post_login_url, data=login_data, headers=headers)\n",
    "\n",
    "    result = s.get(url, headers=headers)\n",
    "\n",
    "    soup = BeautifulSoup(result.text)\n",
    "\n",
    "    print(soup.find('h2').string)"
   ]
  }
 ]
}