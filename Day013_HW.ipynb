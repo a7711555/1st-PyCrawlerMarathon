{
 "nbformat": 4,
 "nbformat_minor": 2,
 "metadata": {
  "language_info": {
   "name": "python",
   "codemirror_mode": {
    "name": "ipython",
    "version": 3
   },
   "version": "3.7.6-final"
  },
  "orig_nbformat": 2,
  "file_extension": ".py",
  "mimetype": "text/x-python",
  "name": "python",
  "npconvert_exporter": "python",
  "pygments_lexer": "ipython3",
  "version": 3,
  "kernelspec": {
   "name": "python37664bitvenvvenvac621c359c0349f2b3a54705ffb61429",
   "display_name": "Python 3.7.6 64-bit ('venv': venv)"
  }
 },
 "cells": [
  {
   "cell_type": "code",
   "execution_count": 33,
   "metadata": {},
   "outputs": [],
   "source": [
    "import requests\n",
    "from bs4 import BeautifulSoup\n",
    "\n",
    "url = 'https://www.ptt.cc/bbs/NBA/index.html'\n",
    "r = requests.get(url)"
   ]
  },
  {
   "cell_type": "markdown",
   "execution_count": null,
   "metadata": {},
   "outputs": [],
   "source": [
    "① 印出最新文章的「作者」「標題」「時間」"
   ]
  },
  {
   "cell_type": "code",
   "execution_count": 34,
   "metadata": {},
   "outputs": [
    {
     "name": "stdout",
     "output_type": "stream",
     "text": "['__add__', '__class__', '__contains__', '__delattr__', '__dir__', '__doc__', '__eq__', '__format__', '__ge__', '__getattribute__', '__getitem__', '__getnewargs__', '__gt__', '__hash__', '__init__', '__init_subclass__', '__iter__', '__le__', '__len__', '__lt__', '__mod__', '__mul__', '__ne__', '__new__', '__reduce__', '__reduce_ex__', '__repr__', '__rmod__', '__rmul__', '__setattr__', '__sizeof__', '__str__', '__subclasshook__', 'capitalize', 'casefold', 'center', 'count', 'encode', 'endswith', 'expandtabs', 'find', 'format', 'format_map', 'index', 'isalnum', 'isalpha', 'isascii', 'isdecimal', 'isdigit', 'isidentifier', 'islower', 'isnumeric', 'isprintable', 'isspace', 'istitle', 'isupper', 'join', 'ljust', 'lower', 'lstrip', 'maketrans', 'partition', 'replace', 'rfind', 'rindex', 'rjust', 'rpartition', 'rsplit', 'rstrip', 'split', 'splitlines', 'startswith', 'strip', 'swapcase', 'title', 'translate', 'upper', 'zfill']\n"
    }
   ],
   "source": [
    "soup = BeautifulSoup(r.text)\n",
    "\n",
    "list_sep = soup.find(class_='r-list-sep')\n",
    "\n",
    "lastest = list_sep.find_previous_sibling(class_='r-ent')\n",
    "print(dir(lastest.find_all(class_=\"title\")[0].text))"
   ]
  },
  {
   "cell_type": "markdown",
   "execution_count": null,
   "metadata": {},
   "outputs": [],
   "source": [
    "② 印出第一頁所有文章的「作者」「標題」「時間」\n"
   ]
  },
  {
   "cell_type": "code",
   "execution_count": 35,
   "metadata": {},
   "outputs": [
    {
     "name": "stdout",
     "output_type": "stream",
     "text": "作者:  jack34031 (BOSSUN)\n標題:  [情報] K教練緬懷Kobe\n時間:  Tue Jan 28 13:36:32 2020\n作者:  SULICon (監工小學徒(〞︶〝＊))\n標題:  Re: [討論] Kobe的影響力為什麼那麼大\n時間:  Tue Jan 28 14:02:47 2020\n作者:  NSYSUheng (Pain)\n標題:  [情報] B.Hield替補出戰砍生涯新高42分\n時間:  Tue Jan 28 14:24:30 2020\n作者:  brian10207 (長谷川鬼)\n標題:  [情報] 今天灰狼紀念Kobe的方式\n時間:  Tue Jan 28 14:26:46 2020\n作者:  a78998042a (Benjimin)\n標題:  [情報] NBA Standings (Jan. 28, 2020)    \n時間:  Tue Jan 28 14:34:09 2020\n作者:  kent0405 (肥貓)\n標題:  [情報] Kobe追思會(@信義NBA Store)\n時間:  Tue Jan 28 14:37:48 2020\n作者:  manuginobii (做愛校 果真累人)\n標題:  [情報] PG悼念Kobe:感謝你讓我在你的羽翼下成長\n時間:  Tue Jan 28 14:44:13 2020\n作者:  Vedan (味丹)\n標題:  [公告] 樂透取消及未來不再開啟樂透\n時間:  Mon Jun 24 15:08:02 2019\n作者:  qazwsx879345 (Rajon Rondo)\n標題:  [公告] 版主上任相關事項 \n時間:  Fri Oct 25 10:44:03 2019\n作者:  Acetoxy (阿斯)\n標題:  [情報] SEASON Schedule 賽程 January 19–20\n時間:  Fri Jan  3 01:37:35 2020\n作者:  Vedan (味丹)\n標題:  [公告] 難過區\n時間:  Mon Jan 27 04:08:23 2020\n"
    }
   ],
   "source": [
    "def get_articles(res):\n",
    "    soup = BeautifulSoup(res.text)\n",
    "    \n",
    "    for d in soup.find_all(class_=\"title\"):\n",
    "        try:\n",
    "            r = BeautifulSoup(requests.get('https://www.ptt.cc'+d.find('a')['href']).text)\n",
    "            tags = r.find_all(class_='article-meta-value')\n",
    "            print('作者: ', tags[0].text)\n",
    "            print('標題: ', d.text.replace('\\t', '').replace('\\n', ''))\n",
    "            print('時間: ', tags[3].text)\n",
    "        except:\n",
    "            continue\n",
    "\n",
    "get_articles(r)"
   ]
  },
  {
   "cell_type": "markdown",
   "execution_count": null,
   "metadata": {},
   "outputs": [],
   "source": [
    "③ 試著爬爬看其他版的文章"
   ]
  },
  {
   "cell_type": "code",
   "execution_count": 36,
   "metadata": {},
   "outputs": [
    {
     "name": "stdout",
     "output_type": "stream",
     "text": "作者:  cwoldind (海洋乍現的溫柔)\n標題:  Re: [討論] 軟體業的感慨\n時間:  Sat Jan 25 17:06:47 2020\n作者:  nonillion (*′∀`)\n標題:  [請益] 資工系學生精進自己＆生涯探索\n時間:  Sun Jan 26 02:00:57 2020\n作者:  wave1et (百分百殖利率)\n標題:  Re: [請益] 28歲該去外國念資工所還是繼續資訊高考\n時間:  Sun Jan 26 09:05:18 2020\n作者:  MOONY135 (談無慾)\n標題:  [請益] 教學10000p heroku aws GCP deploy\n時間:  Sun Jan 26 10:33:09 2020\n作者:  OriginStar ()\n標題:  Re: [請益] 資工系學生精進自己＆生涯探索\n時間:  Sun Jan 26 10:39:58 2020\n作者:  watmakesaboy (whatmakesaboy)\n標題:  [徵才] 新創 The Ordinary Co. 高薪徵全端工程師\n時間:  Sun Jan 26 15:41:27 2020\n作者:  trueQoo (幸運之神)\n標題:  Re: [討論] 能同時十萬人上線的網站要300萬\n時間:  Sun Jan 26 16:09:04 2020\n作者:  benjamin8312 (Zuo)\n標題:  Fw: [心得] 台中面試分享(鼎新/大立光/中佑/長青)\n時間:  Sun Jan 26 19:03:11 2020\n作者:  qrtt1 (有些事，有時候。。。)\n標題:  [心得] docker container 資料的生命週期\n時間:  Sun Jan 26 21:51:08 2020\n作者:  s25g5d4 (function(){})()\n標題:  Re: [請益] 資工系學生精進自己＆生涯探索\n時間:  Mon Jan 27 00:42:54 2020\n作者:  paul09253336 (paulma)\n標題:  [討論] sql語法的重要性\n時間:  Mon Jan 27 08:55:47 2020\n作者:  pig2014 (Rocking Man)\n標題:  Re: [討論] 能同時十萬人上線的網站要300萬\n時間:  Mon Jan 27 14:54:14 2020\n作者:  alihue (wanda wanda)\n標題:  Re: [請益] 資工系學生精進自己＆生涯探索\n時間:  Tue Jan 28 11:54:32 2020\n作者:  MOONY135 (談無慾)\n標題:  [公告] 本板板規  2017/4/10更新\n時間:  Fri Aug  4 14:18:53 2017\n作者:  MOONY135 (談無慾)\n標題:  [公告] 徵才不符板規或徵才自刪公司\n時間:  Fri Aug  4 14:21:30 2017\n作者:  MOONY135 (談無慾)\n標題:  [情報] 訓練課程與付費APP與網站分享\n時間:  Fri Aug  4 19:49:16 2017\n作者:  MOONY135 (談無慾)\n標題:  [情報] 社群活動與免費APP與網站分享\n時間:  Fri Aug  4 19:50:43 2017\n作者:  MOONY135 (談無慾)\n標題:  Fw: [公告] 請使用安全的連線方式連線本站\n時間:  Sun Nov 24 22:43:44 2019\n"
    }
   ],
   "source": [
    "soft_job = requests.get('https://www.ptt.cc/bbs/Soft_Job/index.html', cookies={'over18': '1'})\n",
    "\n",
    "get_articles(soft_job)"
   ]
  }
 ]
}