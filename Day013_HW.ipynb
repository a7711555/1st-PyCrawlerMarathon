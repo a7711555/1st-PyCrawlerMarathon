{
 "nbformat": 4,
 "nbformat_minor": 2,
 "metadata": {
  "language_info": {
   "name": "python",
   "codemirror_mode": {
    "name": "ipython",
    "version": 3
   },
   "version": "3.7.6-final"
  },
  "orig_nbformat": 2,
  "file_extension": ".py",
  "mimetype": "text/x-python",
  "name": "python",
  "npconvert_exporter": "python",
  "pygments_lexer": "ipython3",
  "version": 3,
  "kernelspec": {
   "name": "python37664bitvenvvenvac621c359c0349f2b3a54705ffb61429",
   "display_name": "Python 3.7.6 64-bit ('venv': venv)"
  }
 },
 "cells": [
  {
   "cell_type": "code",
   "execution_count": 21,
   "metadata": {},
   "outputs": [],
   "source": [
    "import requests\n",
    "from bs4 import BeautifulSoup\n",
    "\n",
    "url = 'https://www.ptt.cc/bbs/NBA/index.html'\n",
    "nba = requests.get(url)"
   ]
  },
  {
   "cell_type": "markdown",
   "execution_count": null,
   "metadata": {},
   "outputs": [],
   "source": [
    "① 印出最新文章的「作者」「標題」「時間」"
   ]
  },
  {
   "cell_type": "code",
   "execution_count": 22,
   "metadata": {},
   "outputs": [
    {
     "name": "stdout",
     "output_type": "stream",
     "text": "最新文章\n作者:  WKC1799 (先知總是孤獨的)\n標題:  [花邊] 熱火vs魔術 24&8 違例致敬kobe\n時間:  Tue Jan 28 21:50:05 2020\n"
    }
   ],
   "source": [
    "soup = BeautifulSoup(nba.text)\n",
    "\n",
    "list_sep = soup.find(class_='r-list-sep')\n",
    "\n",
    "lastest = list_sep.find_previous_sibling(class_='r-ent')\n",
    "\n",
    "try:\n",
    "    r = BeautifulSoup(requests.get('https://www.ptt.cc'+lastest.find('a')['href']).text)\n",
    "    tags = r.find_all(class_='article-meta-value')\n",
    "    print('最新文章')\n",
    "    print('作者: ', tags[0].text)\n",
    "    print('標題: ', lastest.find_all(class_=\"title\")[0].text.replace('\\t', '').replace('\\n', ''))\n",
    "    print('時間: ', tags[3].text)\n",
    "except:\n",
    "    pass"
   ]
  },
  {
   "cell_type": "markdown",
   "execution_count": null,
   "metadata": {},
   "outputs": [],
   "source": [
    "② 印出第一頁所有文章的「作者」「標題」「時間」\n"
   ]
  },
  {
   "cell_type": "code",
   "execution_count": 23,
   "metadata": {},
   "outputs": [
    {
     "name": "stdout",
     "output_type": "stream",
     "text": "\n\n\n\n[花邊] 熱火vs魔術 24&8 違例致敬kobe - 看板 NBA - 批踢踢實業坊\n\n\n\n\n\n\n\n\n\n\n\n\n\n\n\n\n批踢踢實業坊\n›\n看板 NBA\n關於我們\n聯絡資訊\n\n\n\n\n返回看板\n\n\n\n\n作者WKC1799 (先知總是孤獨的)看板NBA標題[花邊] 熱火vs魔術 24&8 違例致敬kobe時間Tue Jan 28 21:50:05 2020\nhttps://youtu.be/fRzb4LD8QFA\n\nNBA今天的比賽 熱火vs魔術\n熱火開場24秒違例致敬kobe  魔術半場8秒違例致敬kobe\n美航球場全場觀眾起立鼓掌\n\nkobe的nba生涯 前期的背號是8號 生涯後期改為24號\n\n美國籃球名人堂將省略正常遴選程序\n直接將布萊恩放入2020年候選名單\n成為2020美國籃球名人堂首位候選者\n\n心得\n雙方都很有心 感恩\n\n--\n※ 發信站: 批踢踢實業坊(ptt.cc), 來自: 180.217.132.36 (臺灣)\n※ 文章網址: https://www.ptt.cc/bbs/NBA/M.1580219407.A.AEF.html\n※ 編輯: WKC1799 (180.217.132.36 臺灣), 01/28/2020 21:50:32\n推 wynton      : 老大01/28 21:50\n※ 編輯: WKC1799 (180.217.132.36 臺灣), 01/28/2020 21:51:31\n推 yang0405    : 以後打UBA我也要這樣做 QQ 01/28 21:52\n→ howardgj94  : 你是控衛嗎，會不會被隊有圍歐 01/28 21:54\n推 Toy17       : 其實這兩天幾乎每場比賽開場都會這樣吧？ 01/28 21:55\n推 bernie880303: 二樓是說打2k嗎 01/28 22:08\n推 f92174      : QQ 01/28 22:13\n推 jeter8695   : QQ 01/28 22:14\n\n\n\n\n  (function(i,s,o,g,r,a,m){i['GoogleAnalyticsObject']=r;i[r]=i[r]||function(){\n  (i[r].q=i[r].q||[]).push(arguments)},i[r].l=1*new Date();a=s.createElement(o),\n  m=s.getElementsByTagName(o)[0];a.async=1;a.src=g;m.parentNode.insertBefore(a,m)\n  })(window,document,'script','https://www.google-analytics.com/analytics.js','ga');\n\n  ga('create', 'UA-32365737-1', {\n    cookieDomain: 'ptt.cc',\n    legacyCookieDomain: 'ptt.cc'\n  });\n  ga('send', 'pageview');\n\n\n\n\n\n\n"
    }
   ],
   "source": [
    "def get_articles(html_doc):\n",
    "    soup = BeautifulSoup(html_doc)\n",
    "    \n",
    "    for d in soup.find_all(class_=\"title\"):\n",
    "        try:\n",
    "            r = BeautifulSoup(requests.get('https://www.ptt.cc'+d.find('a')['href']).text)\n",
    "            tags = r.find_all(class_='article-meta-value')\n",
    "            print('作者: ', tags[0].text)\n",
    "            print('標題: ', d.text.replace('\\t', '').replace('\\n', ''))\n",
    "            print('時間: ', tags[3].text)\n",
    "        except:\n",
    "            continue\n",
    "            \n",
    "print(r.text)\n",
    "get_articles(r.text)"
   ]
  },
  {
   "cell_type": "markdown",
   "execution_count": null,
   "metadata": {},
   "outputs": [],
   "source": [
    "③ 試著爬爬看其他版的文章"
   ]
  },
  {
   "cell_type": "code",
   "execution_count": 24,
   "metadata": {},
   "outputs": [
    {
     "name": "stdout",
     "output_type": "stream",
     "text": "作者:  cwoldind (海洋乍現的溫柔)\n標題:  Re: [討論] 軟體業的感慨\n時間:  Sat Jan 25 17:06:47 2020\n作者:  nonillion (*′∀`)\n標題:  [請益] 資工系學生精進自己＆生涯探索\n時間:  Sun Jan 26 02:00:57 2020\n作者:  wave1et (百分百殖利率)\n標題:  Re: [請益] 28歲該去外國念資工所還是繼續資訊高考\n時間:  Sun Jan 26 09:05:18 2020\n作者:  MOONY135 (談無慾)\n標題:  [請益] 教學10000p heroku aws GCP deploy\n時間:  Sun Jan 26 10:33:09 2020\n作者:  OriginStar ()\n標題:  Re: [請益] 資工系學生精進自己＆生涯探索\n時間:  Sun Jan 26 10:39:58 2020\n作者:  watmakesaboy (whatmakesaboy)\n標題:  [徵才] 新創 The Ordinary Co. 高薪徵全端工程師\n時間:  Sun Jan 26 15:41:27 2020\n作者:  trueQoo (幸運之神)\n標題:  Re: [討論] 能同時十萬人上線的網站要300萬\n時間:  Sun Jan 26 16:09:04 2020\n作者:  benjamin8312 (Zuo)\n標題:  Fw: [心得] 台中面試分享(鼎新/大立光/中佑/長青)\n時間:  Sun Jan 26 19:03:11 2020\n作者:  qrtt1 (有些事，有時候。。。)\n標題:  [心得] docker container 資料的生命週期\n時間:  Sun Jan 26 21:51:08 2020\n作者:  s25g5d4 (function(){})()\n標題:  Re: [請益] 資工系學生精進自己＆生涯探索\n時間:  Mon Jan 27 00:42:54 2020\n作者:  paul09253336 (paulma)\n標題:  [討論] sql語法的重要性\n時間:  Mon Jan 27 08:55:47 2020\n作者:  pig2014 (Rocking Man)\n標題:  Re: [討論] 能同時十萬人上線的網站要300萬\n時間:  Mon Jan 27 14:54:14 2020\n作者:  alihue (wanda wanda)\n標題:  Re: [請益] 資工系學生精進自己＆生涯探索\n時間:  Tue Jan 28 11:54:32 2020\n作者:  capita (阿宗)\n標題:  Re: [討論] 軟體業的感慨\n時間:  Tue Jan 28 19:01:14 2020\n作者:  jej (賊一賊)\n標題:  Re: [討論] 軟體業的感慨\n時間:  Tue Jan 28 21:59:34 2020\n作者:  MOONY135 (談無慾)\n標題:  [公告] 本板板規  2017/4/10更新\n時間:  Fri Aug  4 14:18:53 2017\n作者:  MOONY135 (談無慾)\n標題:  [公告] 徵才不符板規或徵才自刪公司\n時間:  Fri Aug  4 14:21:30 2017\n作者:  MOONY135 (談無慾)\n標題:  [情報] 訓練課程與付費APP與網站分享\n時間:  Fri Aug  4 19:49:16 2017\n作者:  MOONY135 (談無慾)\n標題:  [情報] 社群活動與免費APP與網站分享\n時間:  Fri Aug  4 19:50:43 2017\n作者:  MOONY135 (談無慾)\n標題:  Fw: [公告] 請使用安全的連線方式連線本站\n時間:  Sun Nov 24 22:43:44 2019\n"
    }
   ],
   "source": [
    "soft_job = requests.get('https://www.ptt.cc/bbs/Soft_Job/index.html', cookies={'over18': '1'})\n",
    "\n",
    "get_articles(soft_job.text)"
   ]
  }
 ]
}