{
 "nbformat": 4,
 "nbformat_minor": 2,
 "metadata": {
  "language_info": {
   "name": "python",
   "codemirror_mode": {
    "name": "ipython",
    "version": 3
   },
   "version": "3.7.6-final"
  },
  "orig_nbformat": 2,
  "file_extension": ".py",
  "mimetype": "text/x-python",
  "name": "python",
  "npconvert_exporter": "python",
  "pygments_lexer": "ipython3",
  "version": 3,
  "kernelspec": {
   "name": "python37664bitvenvvenvac621c359c0349f2b3a54705ffb61429",
   "display_name": "Python 3.7.6 64-bit ('venv': venv)"
  }
 },
 "cells": [
  {
   "cell_type": "markdown",
   "execution_count": null,
   "metadata": {},
   "outputs": [],
   "source": [
    "# API 資料串接 - 以 知乎 API 實作範例\n",
    "了解知乎 API 使用方式與回傳內容 \n",
    "撰寫程式存取 API 且添加標頭"
   ]
  },
  {
   "cell_type": "code",
   "execution_count": 1,
   "metadata": {},
   "outputs": [],
   "source": [
    "import datetime\n",
    "import json\n",
    "\n",
    "import requests\n",
    "\n",
    "headers = {'user-agent': 'my-app/0.0.1'}\n",
    "question_data = json.loads(requests.get('https://www.zhihu.com/api/v4/questions/55493026', headers=headers).text)\n",
    "ans_data = json.loads(requests.get('https://www.zhihu.com/api/v4/questions/55493026/answers', headers=headers).text)"
   ]
  },
  {
   "cell_type": "code",
   "execution_count": 2,
   "metadata": {},
   "outputs": [
    {
     "name": "stdout",
     "output_type": "stream",
     "text": "發問時間: 2017-02-06 22:10:29\n"
    }
   ],
   "source": [
    "# 1. 取出知乎問題發問時間\n",
    "print(f'發問時間: {datetime.datetime.fromtimestamp(question_data[\"created\"])}')"
   ]
  },
  {
   "cell_type": "code",
   "execution_count": 3,
   "metadata": {},
   "outputs": [
    {
     "name": "stdout",
     "output_type": "stream",
     "text": "第一筆回答時間: 2019-05-14 17:00:12\n最後一筆回答時間: 2019-10-29 11:07:06\n"
    }
   ],
   "source": [
    "# 2. 取出第一筆與最後一筆回答的時間\n",
    "\n",
    "print(f'第一筆回答時間: {datetime.datetime.fromtimestamp(ans_data[\"data\"][0][\"created_time\"])}\\n最後一筆回答時間: {datetime.datetime.fromtimestamp(ans_data[\"data\"][-1][\"created_time\"])}')"
   ]
  }
 ]
}