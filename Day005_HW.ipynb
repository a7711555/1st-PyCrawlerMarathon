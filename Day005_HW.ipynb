{
 "nbformat": 4,
 "nbformat_minor": 2,
 "metadata": {
  "language_info": {
   "name": "python",
   "codemirror_mode": {
    "name": "ipython",
    "version": 3
   },
   "version": "3.7.6-final"
  },
  "orig_nbformat": 2,
  "file_extension": ".py",
  "mimetype": "text/x-python",
  "name": "python",
  "npconvert_exporter": "python",
  "pygments_lexer": "ipython3",
  "version": 3,
  "kernelspec": {
   "name": "python37664bitvenvvenvac621c359c0349f2b3a54705ffb61429",
   "display_name": "Python 3.7.6 64-bit ('venv': venv)"
  }
 },
 "cells": [
  {
   "cell_type": "markdown",
   "execution_count": null,
   "metadata": {},
   "outputs": [],
   "source": [
    "請利用 API: https://www.dcard.tw/_api/forums/pet/posts?popular=true 回答下列問題：\n",
    "\n",
    "這個 API 一次會回傳幾筆資料？每一筆資料包含哪些欄位？\n",
    "\n",
    "取出每一筆資料的「標題」、「貼文時間」、「留言人數」、「按讚人數」\n",
    "計算熱門/非熱門文章的「平均留言人數」與「平均按讚人數」"
   ]
  },
  {
   "cell_type": "code",
   "execution_count": 45,
   "metadata": {},
   "outputs": [],
   "source": [
    "import json\n",
    "\n",
    "import requests\n",
    "\n",
    "\n",
    "r = requests.get('https://www.dcard.tw/_api/forums/pet/posts?popular=true')\n",
    "\n",
    "\n",
    "response = r.text\n",
    "\n",
    "data = json.loads(response)\n",
    "\n"
   ]
  },
  {
   "cell_type": "code",
   "execution_count": 46,
   "metadata": {},
   "outputs": [
    {
     "name": "stdout",
     "output_type": "stream",
     "text": "一次回傳 30 筆資料\n包含欄位:\nid\ntitle\nexcerpt\nanonymousSchool\nanonymousDepartment\npinned\nforumId\nreplyId\ncreatedAt\nupdatedAt\ncommentCount\nlikeCount\nwithNickname\ntags\ntopics\nmeta\nforumName\nforumAlias\ngender\nschool\nreplyTitle\nmediaMeta\nreactions\nhidden\ncustomStyle\nisSuspiciousAccount\nlayout\nwithImages\nwithVideos\nmedia\nreportReasonText\npostAvatar\n"
    }
   ],
   "source": [
    "# 1. 這個 API 一次會回傳幾筆資料？每一筆資料包含哪些欄位？\n",
    "\n",
    "print(f'一次回傳 {len(data)} 筆資料')\n",
    "\n",
    "print('包含欄位:')\n",
    "for k in data[0].keys():\n",
    "    print(k)"
   ]
  },
  {
   "cell_type": "code",
   "execution_count": 47,
   "metadata": {},
   "outputs": [
    {
     "name": "stdout",
     "output_type": "stream",
     "text": "標題: 四隻貓的日常 \n貼文時間: 2020-01-24T04:29:22.462Z \n留言人數: 20 \n按讚人數: 610\n標題: 莫再提、莫再問 \n貼文時間: 2020-01-23T20:45:57.662Z \n留言人數: 4 \n按讚人數: 110\n標題: 成為家裡第一位拿紅包的？ \n貼文時間: 2020-01-24T18:11:07.254Z \n留言人數: 3 \n按讚人數: 75\n標題: 國立中山大學的同學求原圖！ \n貼文時間: 2020-01-24T04:43:23.037Z \n留言人數: 0 \n按讚人數: 54\n標題: 第一次做貓貓🐱年菜❤️ \n貼文時間: 2020-01-24T10:37:12.433Z \n留言人數: 7 \n按讚人數: 50\n標題: 拿到紅包笑不出來 \n貼文時間: 2020-01-24T22:28:59.520Z \n留言人數: 3 \n按讚人數: 40\n標題: 狗狗🐶年夜飯🍱 \n貼文時間: 2020-01-24T14:43:49.614Z \n留言人數: 1 \n按讚人數: 40\n標題: 遛狗不繫牽繩的通通去死吧！ \n貼文時間: 2020-01-24T14:42:02.149Z \n留言人數: 8 \n按讚人數: 38\n標題: 流感關我的貓屁事？ \n貼文時間: 2020-01-24T21:04:58.864Z \n留言人數: 9 \n按讚人數: 37\n標題: 協尋！！台北東區走失的膽小狗 \n貼文時間: 2020-01-24T05:15:47.825Z \n留言人數: 1 \n按讚人數: 27\n標題: 異色瞳波斯貓送養 \n貼文時間: 2020-01-24T05:17:24.117Z \n留言人數: 2 \n按讚人數: 24\n標題: 養了七隻貓 \n貼文時間: 2020-01-24T14:00:50.371Z \n留言人數: 3 \n按讚人數: 17\n標題: 鼠巴拉西！鼠年歡樂賀圖 \n貼文時間: 2020-01-24T13:53:44.751Z \n留言人數: 1 \n按讚人數: 17\n標題: ⚠️⚠️送養~可愛虎斑貓女孩⚠️⚠️ \n貼文時間: 2020-01-24T07:38:42.867Z \n留言人數: 2 \n按讚人數: 17\n標題: #圖 如何戒電玩成癮 \n貼文時間: 2020-01-24T06:07:54.038Z \n留言人數: 4 \n按讚人數: 17\n標題: #圖 協尋寵物 \n貼文時間: 2020-01-24T04:38:54.820Z \n留言人數: 0 \n按讚人數: 16\n標題: 第一次到海邊的邱小兔 \n貼文時間: 2020-01-24T16:27:08.750Z \n留言人數: 3 \n按讚人數: 12\n標題: 第一次過年 \n貼文時間: 2020-01-24T04:05:35.865Z \n留言人數: 1 \n按讚人數: 12\n標題: #救援貓咪 #台中海線 #疑似折耳 \n貼文時間: 2020-01-24T08:29:33.901Z \n留言人數: 0 \n按讚人數: 11\n標題: 寵物協尋，麻煩新竹的朋友幫忙多留意好嗎，拜託拜託 \n貼文時間: 2020-01-24T06:38:23.031Z \n留言人數: 0 \n按讚人數: 10\n標題: 我又拿我家的兔子拍了進擊的巨人OP \n貼文時間: 2020-01-24T11:02:07.365Z \n留言人數: 1 \n按讚人數: 9\n標題: 狗狗會自殺嗎？ \n貼文時間: 2020-01-25T04:49:33.593Z \n留言人數: 2 \n按讚人數: 8\n標題: 貓咪到處尿尿的問題 \n貼文時間: 2020-01-23T20:51:24.501Z \n留言人數: 6 \n按讚人數: 8\n標題: 如何讓狗愛我 \n貼文時間: 2020-01-24T16:04:17.860Z \n留言人數: 1 \n按讚人數: 6\n標題: 不要上來擠 \n貼文時間: 2020-01-24T08:53:47.832Z \n留言人數: 1 \n按讚人數: 6\n標題: 領養貓 \n貼文時間: 2020-01-24T08:33:38.288Z \n留言人數: 4 \n按讚人數: 6\n標題: 黑白雙傻來拜年 \n貼文時間: 2020-01-24T16:21:24.623Z \n留言人數: 0 \n按讚人數: 5\n標題: 拿紅包去買罐罐😽 \n貼文時間: 2020-01-24T07:05:28.041Z \n留言人數: 0 \n按讚人數: 5\n標題: 協尋七草鸚鵡 高雄科工館 \n貼文時間: 2020-01-25T02:29:27.842Z \n留言人數: 0 \n按讚人數: 4\n標題: 黃金鼠 幼鼠 \n貼文時間: 2020-01-24T11:54:11.761Z \n留言人數: 11 \n按讚人數: 4\n"
    }
   ],
   "source": [
    "# 2. 取出每一筆資料的「標題」、「貼文時間」、「留言人數」、「按讚人數」\n",
    "\n",
    "for d in data:\n",
    "    print(f'標題: {d[\"title\"]} \\n貼文時間: {d[\"createdAt\"]} \\n留言人數: {d[\"commentCount\"]} \\n按讚人數: {d[\"likeCount\"]}')\n",
    "\n"
   ]
  },
  {
   "cell_type": "code",
   "execution_count": 48,
   "metadata": {},
   "outputs": [
    {
     "name": "stdout",
     "output_type": "stream",
     "text": "熱門文章: \n 平均留言人數: 3.2666666666666666 \n 平均按讚人數: 43.166666666666664\n熱門文章: \n 平均留言人數: 2.2333333333333334 \n 平均按讚人數: 11.166666666666666\n"
    }
   ],
   "source": [
    "# 3. 計算熱門/非熱門文章的「平均留言人數」與「平均按讚人數」\n",
    "\n",
    "not_pop = json.loads(requests.get('https://www.dcard.tw/_api/forums/pet/posts').text)\n",
    "\n",
    "pop_like_count = 0\n",
    "pop_comment_count = 0\n",
    "not_like_count = 0\n",
    "not_pop_comment_count = 0\n",
    "\n",
    "for d in data:\n",
    "    pop_like_count += d[\"likeCount\"]\n",
    "    pop_comment_count += d['commentCount']\n",
    "print(f'熱門文章: \\n 平均留言人數: {pop_comment_count / len(data)} \\n 平均按讚人數: {pop_like_count / len(data)}')\n",
    "\n",
    "for d in not_pop:\n",
    "    not_like_count += d[\"likeCount\"]\n",
    "    not_pop_comment_count += d['commentCount']\n",
    "print(f'熱門文章: \\n 平均留言人數: {not_pop_comment_count / len(not_pop)} \\n 平均按讚人數: {not_like_count / len(not_pop)}')\n",
    "\n"
   ]
  }
 ]
}