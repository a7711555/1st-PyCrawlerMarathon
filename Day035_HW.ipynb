{
 "nbformat": 4,
 "nbformat_minor": 2,
 "metadata": {
  "language_info": {
   "name": "python",
   "codemirror_mode": {
    "name": "ipython",
    "version": 3
   },
   "version": "3.7.6-final"
  },
  "orig_nbformat": 2,
  "file_extension": ".py",
  "mimetype": "text/x-python",
  "name": "python",
  "npconvert_exporter": "python",
  "pygments_lexer": "ipython3",
  "version": 3,
  "kernelspec": {
   "name": "705dfb16-d95a-4350-a73c-ce30bee76899",
   "display_name": "'Python Interactive'"
  }
 },
 "cells": [
  {
   "cell_type": "markdown",
   "metadata": {},
   "source": [
    "找一個之前實作過的爬蟲改用多線程改寫，比較前後時間的差異。\n"
   ]
  },
  {
   "cell_type": "code",
   "execution_count": 1,
   "metadata": {},
   "outputs": [],
   "source": [
    "import _thread\n",
    "import time\n",
    "import random\n",
    "\n",
    "from bs4 import BeautifulSoup\n",
    "import requests"
   ]
  },
  {
   "cell_type": "markdown",
   "metadata": {},
   "source": [
    "原本的爬蟲時間"
   ]
  },
  {
   "cell_type": "code",
   "execution_count": 2,
   "metadata": {},
   "outputs": [],
   "source": [
    "proxy_ips = []\n",
    "\n",
    "url = 'https://free-proxy-list.net/'\n",
    "r = requests.get(url)\n",
    "soup = BeautifulSoup(r.text)\n",
    "\n",
    "table = soup.find('tbody')\n",
    "\n",
    "for row in table:\n",
    "    td = row.find_all('td')\n",
    "    ip = td[0].text\n",
    "    port = td[1].text\n",
    "    proxy_ips.append(f'http://{ip}:{port}')"
   ]
  },
  {
   "cell_type": "code",
   "execution_count": 3,
   "metadata": {},
   "outputs": [],
   "source": [
    "def try_proxy(proxy_ip):\n",
    "    try:\n",
    "        resp = requests.get('http://ip.filefab.com/index.php',\n",
    "                        proxies={'http': ip}, timeout=10)\n",
    "        soup = BeautifulSoup(resp.text, 'lxml')\n",
    "        \n",
    "        print(soup.find('h1', id='ipd').text.strip())\n",
    "\n",
    "    except Exception as e:\n",
    "        print('Fail: ', e)"
   ]
  },
  {
   "cell_type": "code",
   "execution_count": 4,
   "metadata": {},
   "outputs": [
    {
     "name": "stdout",
     "output_type": "stream",
     "text": "Use http://186.42.186.202:48281\nFail:  HTTPConnectionPool(host='186.42.186.202', port=48281): Max retries exceeded with url: http://ip.filefab.com/index.php (Caused by ConnectTimeoutError(<urllib3.connection.HTTPConnection object at 0x000002978897D188>, 'Connection to 186.42.186.202 timed out. (connect timeout=10)'))\nUse http://117.102.94.148:34742\nYour IP address: 117.102.94.148\nUse http://104.43.244.233:80\nFail:  HTTPConnectionPool(host='104.43.244.233', port=80): Max retries exceeded with url: http://ip.filefab.com/index.php (Caused by ConnectTimeoutError(<urllib3.connection.HTTPConnection object at 0x000002978897F748>, 'Connection to 104.43.244.233 timed out. (connect timeout=10)'))\nUse http://23.91.219.238:8080\nFail:  HTTPConnectionPool(host='23.91.219.238', port=8080): Max retries exceeded with url: http://ip.filefab.com/index.php (Caused by ConnectTimeoutError(<urllib3.connection.HTTPConnection object at 0x00000297889A1D48>, 'Connection to 23.91.219.238 timed out. (connect timeout=10)'))\nUse http://208.98.185.89:53630\nFail:  HTTPConnectionPool(host='208.98.185.89', port=53630): Max retries exceeded with url: http://ip.filefab.com/index.php (Caused by ConnectTimeoutError(<urllib3.connection.HTTPConnection object at 0x00000297889A8EC8>, 'Connection to 208.98.185.89 timed out. (connect timeout=10)'))\nUse http://159.89.40.245:8118\nFail:  HTTPConnectionPool(host='159.89.40.245', port=8118): Max retries exceeded with url: http://ip.filefab.com/index.php (Caused by ProxyError('Cannot connect to proxy.', ConnectionResetError(10054, '遠端主機已強制關閉一個現存的連線。', None, 10054, None)))\nUse http://154.127.120.18:30280\nFail:  HTTPConnectionPool(host='154.127.120.18', port=30280): Max retries exceeded with url: http://ip.filefab.com/index.php (Caused by ProxyError('Cannot connect to proxy.', RemoteDisconnected('Remote end closed connection without response')))\nUse http://185.162.142.81:53281\nFail:  HTTPConnectionPool(host='185.162.142.81', port=53281): Max retries exceeded with url: http://ip.filefab.com/index.php (Caused by ConnectTimeoutError(<urllib3.connection.HTTPConnection object at 0x00000297889A1348>, 'Connection to 185.162.142.81 timed out. (connect timeout=10)'))\nUse http://154.119.79.254:53281\nFail:  HTTPConnectionPool(host='154.119.79.254', port=53281): Max retries exceeded with url: http://ip.filefab.com/index.php (Caused by ConnectTimeoutError(<urllib3.connection.HTTPConnection object at 0x000002978897FD88>, 'Connection to 154.119.79.254 timed out. (connect timeout=10)'))\nUse http://118.174.232.237:48665\nFail:  HTTPConnectionPool(host='118.174.232.237', port=48665): Max retries exceeded with url: http://ip.filefab.com/index.php (Caused by ConnectTimeoutError(<urllib3.connection.HTTPConnection object at 0x000002978897DDC8>, 'Connection to 118.174.232.237 timed out. (connect timeout=10)'))\n花費時間:  95.01252174377441\n"
    }
   ],
   "source": [
    "startTime = time.time()\n",
    "for ip in proxy_ips[:10]:\n",
    "    print('Use', ip)\n",
    "    try_proxy(ip)\n",
    "\n",
    "finishTime = time.time()\n",
    "print('花費時間: ', (finishTime - startTime)) # 正常情況的爬蟲所需時間"
   ]
  },
  {
   "cell_type": "markdown",
   "metadata": {},
   "source": [
    "加入多執行緒"
   ]
  },
  {
   "cell_type": "code",
   "execution_count": 5,
   "metadata": {},
   "outputs": [
    {
     "name": "stdout",
     "output_type": "stream",
     "text": "Use http://186.42.186.202:48281\nUse http://117.102.94.148:34742\nUse http://104.43.244.233:80\nUse http://23.91.219.238:8080\nUse http://208.98.185.89:53630\nUse http://159.89.40.245:8118\nUse http://154.127.120.18:30280\nUse http://185.162.142.81:53281\nUse http://154.119.79.254:53281\nUse http://118.174.232.237:48665\n花費時間:  0.03803873062133789\n"
    }
   ],
   "source": [
    "startTime = time.time()\n",
    "threads = []\n",
    "for i in proxy_ips[:10]:\n",
    "    print('Use', i)\n",
    "    _thread.start_new_thread(try_proxy, (i, ))\n",
    "\n",
    "finishTime = time.time()\n",
    "print('花費時間: ', (finishTime - startTime))"
   ]
  }
 ]
}